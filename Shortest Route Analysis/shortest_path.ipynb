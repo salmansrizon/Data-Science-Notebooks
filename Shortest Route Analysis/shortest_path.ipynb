{
 "cells": [
  {
   "attachments": {},
   "cell_type": "markdown",
   "metadata": {},
   "source": [
    "#### Importing dependent libararies"
   ]
  },
  {
   "cell_type": "code",
   "execution_count": 1,
   "metadata": {},
   "outputs": [],
   "source": [
    "import warnings\n",
    "warnings.filterwarnings(\"ignore\")\n",
    "\n",
    "## for data\n",
    "import pandas as pd  #1.1.5\n",
    "import numpy as np  #1.21.0\n",
    "from tqdm import tqdm\n",
    "\n",
    "## for plotting\n",
    "import matplotlib.pyplot as plt  #3.3.2\n",
    "import seaborn as sns  #0.11.1\n",
    "import folium  #0.14.0\n",
    "from folium import plugins\n",
    "import plotly.express as px  #5.1.0\n",
    "\n",
    "## for simple routing\n",
    "import osmnx as ox  #1.2.2\n",
    "import networkx as nx  #3.0\n",
    "\n",
    "## for advanced routing \n",
    "from ortools.constraint_solver import pywrapcp  #9.6\n",
    "from ortools.constraint_solver import routing_enums_pb2"
   ]
  },
  {
   "cell_type": "code",
   "execution_count": null,
   "metadata": {},
   "outputs": [],
   "source": []
  }
 ],
 "metadata": {
  "kernelspec": {
   "display_name": "Python 3",
   "language": "python",
   "name": "python3"
  },
  "language_info": {
   "codemirror_mode": {
    "name": "ipython",
    "version": 3
   },
   "file_extension": ".py",
   "mimetype": "text/x-python",
   "name": "python",
   "nbconvert_exporter": "python",
   "pygments_lexer": "ipython3",
   "version": "3.10.4"
  },
  "orig_nbformat": 4
 },
 "nbformat": 4,
 "nbformat_minor": 2
}
