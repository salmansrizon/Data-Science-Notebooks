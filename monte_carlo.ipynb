{
 "cells": [
  {
   "cell_type": "markdown",
   "metadata": {},
   "source": [
    "Monty Hall Problem"
   ]
  },
  {
   "cell_type": "code",
   "execution_count": 11,
   "metadata": {},
   "outputs": [],
   "source": [
    "import random\n",
    "import matplotlib.pyplot as plt\n",
    "import pandas as pd\n",
    "from pandas import DataFrame"
   ]
  },
  {
   "cell_type": "code",
   "execution_count": 2,
   "metadata": {},
   "outputs": [
    {
     "data": {
      "text/plain": [
       "<matplotlib.lines.Line2D at 0x2317f018608>"
      ]
     },
     "execution_count": 2,
     "metadata": {},
     "output_type": "execute_result"
    },
    {
     "data": {
      "image/png": "[encoded data removed]",
      "text/plain": [
       "<Figure size 432x288 with 1 Axes>"
      ]
     },
     "metadata": {
      "needs_background": "light"
     },
     "output_type": "display_data"
    }
   ],
   "source": [
    "# We are going with 3 doors\n",
    "door = [\"goat\",\"goat\",\"car\"]\n",
    "\n",
    "# Empty liststo store prob values\n",
    "switch_win_probability = []\n",
    "stick_win_probability = []\n",
    "\n",
    "plt.axhline(y = 0.666, color= 'r',linestyle = '-')\n",
    "plt.axhline(y = 0.333, color= 'g',linestyle = '-')"
   ]
  },
  {
   "cell_type": "code",
   "execution_count": 7,
   "metadata": {},
   "outputs": [],
   "source": [
    "# Simulation Main Func\n",
    "def monte_carlo(n):\n",
    "#   calculating swith & win \n",
    "    switch_win = 0\n",
    "    stick_win = 0\n",
    "    \n",
    "    for i in range(n):\n",
    "#       Randomly placing car and goats behind the three doors\n",
    "        random.shuffle(door)\n",
    "#             Contestant's Choice\n",
    "        k = random.randrange(2)\n",
    "#       if the contestant doesn't get car \n",
    "        if door[k] != 'car':\n",
    "            switch_win +=1\n",
    "        else:\n",
    "            stick_win += 1\n",
    "#       Updating the list value\n",
    "        switch_win_probability.append(switch_win/(i+1))\n",
    "        stick_win_probability.append(stick_win/(i+1))\n",
    "        \n",
    "#       plotting the Data\n",
    "        plt.plot(switch_win_probability)\n",
    "        plt.plot(stick_win_probability)\n",
    "#       print\n",
    "    print('Winning Probability if you always swith:',switch_win_probability[-1])\n",
    "    print('Winning Probability if you always stick to your original choice:',stick_win_probability[-1])\n",
    "    "
   ]
  },
  {
   "cell_type": "code",
   "execution_count": 8,
   "metadata": {},
   "outputs": [
    {
     "name": "stdout",
     "output_type": "stream",
     "text": [
      "Winning Probability if you always swith: 0.68\n",
      "Winning Probability if you always stick to your original choice: 0.32\n"
     ]
    },
    {
     "data": {
      "image/png": "[encoded data removed]",
      "text/plain": [
       "<Figure size 432x288 with 1 Axes>"
      ]
     },
     "metadata": {
      "needs_background": "light"
     },
     "output_type": "display_data"
    }
   ],
   "source": [
    "monte_carlo(1000)"
   ]
  },
  {
   "cell_type": "code",
   "execution_count": 15,
   "metadata": {},
   "outputs": [
    {
     "data": {
      "text/html": [
       "<div>\n",
       "<style scoped>\n",
       "    .dataframe tbody tr th:only-of-type {\n",
       "        vertical-align: middle;\n",
       "    }\n",
       "\n",
       "    .dataframe tbody tr th {\n",
       "        vertical-align: top;\n",
       "    }\n",
       "\n",
       "    .dataframe thead th {\n",
       "        text-align: right;\n",
       "    }\n",
       "</style>\n",
       "<table border=\"1\" class=\"dataframe\">\n",
       "  <thead>\n",
       "    <tr style=\"text-align: right;\">\n",
       "      <th></th>\n",
       "      <th>stick with win Prob</th>\n",
       "      <th>switch with win Prob</th>\n",
       "    </tr>\n",
       "  </thead>\n",
       "  <tbody>\n",
       "    <tr>\n",
       "      <th>0</th>\n",
       "      <td>0.000000</td>\n",
       "      <td>1.000000</td>\n",
       "    </tr>\n",
       "    <tr>\n",
       "      <th>1</th>\n",
       "      <td>0.000000</td>\n",
       "      <td>1.000000</td>\n",
       "    </tr>\n",
       "    <tr>\n",
       "      <th>2</th>\n",
       "      <td>0.000000</td>\n",
       "      <td>1.000000</td>\n",
       "    </tr>\n",
       "    <tr>\n",
       "      <th>3</th>\n",
       "      <td>0.250000</td>\n",
       "      <td>0.750000</td>\n",
       "    </tr>\n",
       "    <tr>\n",
       "      <th>4</th>\n",
       "      <td>0.200000</td>\n",
       "      <td>0.800000</td>\n",
       "    </tr>\n",
       "    <tr>\n",
       "      <th>...</th>\n",
       "      <td>...</td>\n",
       "      <td>...</td>\n",
       "    </tr>\n",
       "    <tr>\n",
       "      <th>1995</th>\n",
       "      <td>0.320281</td>\n",
       "      <td>0.679719</td>\n",
       "    </tr>\n",
       "    <tr>\n",
       "      <th>1996</th>\n",
       "      <td>0.320963</td>\n",
       "      <td>0.679037</td>\n",
       "    </tr>\n",
       "    <tr>\n",
       "      <th>1997</th>\n",
       "      <td>0.320641</td>\n",
       "      <td>0.679359</td>\n",
       "    </tr>\n",
       "    <tr>\n",
       "      <th>1998</th>\n",
       "      <td>0.320320</td>\n",
       "      <td>0.679680</td>\n",
       "    </tr>\n",
       "    <tr>\n",
       "      <th>1999</th>\n",
       "      <td>0.320000</td>\n",
       "      <td>0.680000</td>\n",
       "    </tr>\n",
       "  </tbody>\n",
       "</table>\n",
       "<p>2000 rows × 2 columns</p>\n",
       "</div>"
      ],
      "text/plain": [
       "      stick with win Prob  switch with win Prob\n",
       "0                0.000000              1.000000\n",
       "1                0.000000              1.000000\n",
       "2                0.000000              1.000000\n",
       "3                0.250000              0.750000\n",
       "4                0.200000              0.800000\n",
       "...                   ...                   ...\n",
       "1995             0.320281              0.679719\n",
       "1996             0.320963              0.679037\n",
       "1997             0.320641              0.679359\n",
       "1998             0.320320              0.679680\n",
       "1999             0.320000              0.680000\n",
       "\n",
       "[2000 rows x 2 columns]"
      ]
     },
     "execution_count": 15,
     "metadata": {},
     "output_type": "execute_result"
    }
   ],
   "source": [
    "d = {\"stick with win Prob\": stick_win_probability,\"switch with win Prob\": switch_win_probability}\n",
    "df = pd.DataFrame(d)\n",
    "df"
   ]
  },
  {
   "cell_type": "markdown",
   "metadata": {},
   "source": [
    "Estimation PI Using circle and Square"
   ]
  },
  {
   "cell_type": "code",
   "execution_count": 17,
   "metadata": {},
   "outputs": [],
   "source": [
    "import turtle\n",
    "import random\n",
    "import matplotlib.pyplot as plt\n",
    "import math"
   ]
  },
  {
   "cell_type": "code",
   "execution_count": 18,
   "metadata": {},
   "outputs": [],
   "source": [
    "# To visualize the random points\n",
    "myPen = turtle.Turtle()\n",
    "myPen.hideturtle()\n",
    "myPen.speed(0)\n",
    "\n",
    "# Drawing a Square\n",
    "myPen.up()\n",
    "myPen.setposition(-100,-100)\n",
    "myPen.down()\n",
    "myPen.fd(200)\n",
    "myPen.left(90)\n",
    "myPen.fd(200)\n",
    "\n",
    "myPen.left(90)\n",
    "myPen.fd(200)\n",
    "myPen.left(90)\n",
    "myPen.fd(200)\n",
    "myPen.left(90)\n",
    "\n",
    "# Doawing the circle\n",
    "myPen.up()\n",
    "myPen.setposition(0,-100)\n",
    "myPen.down()\n",
    "myPen.circle(100)"
   ]
  },
  {
   "cell_type": "code",
   "execution_count": 19,
   "metadata": {},
   "outputs": [],
   "source": [
    "# To count the point inside and outside the circle\n",
    "in_circle = 0\n",
    "out_circle = 0\n",
    "# To store the values of PI\n",
    "pi_values = []"
   ]
  },
  {
   "cell_type": "code",
   "execution_count": 25,
   "metadata": {},
   "outputs": [
    {
     "data": {
      "text/html": [
       "<div>\n",
       "<style scoped>\n",
       "    .dataframe tbody tr th:only-of-type {\n",
       "        vertical-align: middle;\n",
       "    }\n",
       "\n",
       "    .dataframe tbody tr th {\n",
       "        vertical-align: top;\n",
       "    }\n",
       "\n",
       "    .dataframe thead th {\n",
       "        text-align: right;\n",
       "    }\n",
       "</style>\n",
       "<table border=\"1\" class=\"dataframe\">\n",
       "  <thead>\n",
       "    <tr style=\"text-align: right;\">\n",
       "      <th></th>\n",
       "      <th>Values of PI</th>\n",
       "    </tr>\n",
       "  </thead>\n",
       "  <tbody>\n",
       "    <tr>\n",
       "      <th>0</th>\n",
       "      <td>4.000000</td>\n",
       "    </tr>\n",
       "    <tr>\n",
       "      <th>1</th>\n",
       "      <td>4.000000</td>\n",
       "    </tr>\n",
       "    <tr>\n",
       "      <th>2</th>\n",
       "      <td>4.000000</td>\n",
       "    </tr>\n",
       "    <tr>\n",
       "      <th>3</th>\n",
       "      <td>4.000000</td>\n",
       "    </tr>\n",
       "    <tr>\n",
       "      <th>4</th>\n",
       "      <td>4.000000</td>\n",
       "    </tr>\n",
       "    <tr>\n",
       "      <th>...</th>\n",
       "      <td>...</td>\n",
       "    </tr>\n",
       "    <tr>\n",
       "      <th>9995</th>\n",
       "      <td>3.114046</td>\n",
       "    </tr>\n",
       "    <tr>\n",
       "      <th>9996</th>\n",
       "      <td>3.114134</td>\n",
       "    </tr>\n",
       "    <tr>\n",
       "      <th>9997</th>\n",
       "      <td>3.114223</td>\n",
       "    </tr>\n",
       "    <tr>\n",
       "      <th>9998</th>\n",
       "      <td>3.114311</td>\n",
       "    </tr>\n",
       "    <tr>\n",
       "      <th>9999</th>\n",
       "      <td>3.114400</td>\n",
       "    </tr>\n",
       "  </tbody>\n",
       "</table>\n",
       "<p>10000 rows × 1 columns</p>\n",
       "</div>"
      ],
      "text/plain": [
       "      Values of PI\n",
       "0         4.000000\n",
       "1         4.000000\n",
       "2         4.000000\n",
       "3         4.000000\n",
       "4         4.000000\n",
       "...            ...\n",
       "9995      3.114046\n",
       "9996      3.114134\n",
       "9997      3.114223\n",
       "9998      3.114311\n",
       "9999      3.114400\n",
       "\n",
       "[10000 rows x 1 columns]"
      ]
     },
     "execution_count": 25,
     "metadata": {},
     "output_type": "execute_result"
    }
   ],
   "source": [
    "# Running for 5 times\n",
    "for i in range(5):\n",
    "    for j in range(1000):\n",
    "        \n",
    "#         Generate random Numbers\n",
    "        x = random.randrange(-100,100)\n",
    "        y = random.randrange(-100,100)\n",
    "        \n",
    "#         Check if the number line outside the circle\n",
    "        if (x**2+y**2 > 100**2):\n",
    "            myPen.color(\"black\")\n",
    "            myPen.up()\n",
    "            myPen.goto(x,y)\n",
    "            myPen.down()\n",
    "            myPen.dot()\n",
    "            out_circle = out_circle+1\n",
    "        else:\n",
    "            myPen.color(\"red\")\n",
    "            myPen.up()\n",
    "            myPen.goto(x,y)\n",
    "            myPen.down()\n",
    "            myPen.dot()\n",
    "            in_circle = in_circle+1\n",
    "            \n",
    "#         Calculating the value of PI\n",
    "        pi = 4.0 * in_circle / (in_circle + out_circle)\n",
    "#     Append the values of PI in the list\n",
    "        pi_values.append(pi)\n",
    "#     Calculating the errors\n",
    "        avg_pi_errors = [abs(math.pi - pi) for pi in pi_values]\n",
    "#     print(pi_values)\n",
    "v = {\"Values of PI\":pi_values}\n",
    "df = pd.DataFrame(v)\n",
    "df"
   ]
  },
  {
   "cell_type": "code",
   "execution_count": 26,
   "metadata": {},
   "outputs": [
    {
     "data": {
      "image/png": "[encoded data removed]",
      "text/plain": [
       "<Figure size 432x288 with 1 Axes>"
      ]
     },
     "metadata": {
      "needs_background": "light"
     },
     "output_type": "display_data"
    },
    {
     "data": {
      "image/png": "[encoded data removed]",
      "text/plain": [
       "<Figure size 432x288 with 1 Axes>"
      ]
     },
     "metadata": {
      "needs_background": "light"
     },
     "output_type": "display_data"
    }
   ],
   "source": [
    "# plotting the Data\n",
    "plt.axhline(y = math.pi, color = 'g', linestyle = '-')\n",
    "plt.plot(pi_values)\n",
    "plt.xlabel(\"Iterations\")\n",
    "plt.ylabel(\"Value of PI\")\n",
    "plt.show()\n",
    "\n",
    "# Plot the error and calculation\n",
    "plt.axhline(y = 0.0 , color='g', linestyle = '-')\n",
    "plt.plot(avg_pi_errors)\n",
    "plt.xlabel(\"Iterations\")\n",
    "plt.ylabel(\"Error Values\")\n",
    "plt.show()"
   ]
  },
  {
   "cell_type": "code",
   "execution_count": null,
   "metadata": {},
   "outputs": [],
   "source": []
  },
  {
   "cell_type": "code",
   "execution_count": null,
   "metadata": {},
   "outputs": [],
   "source": []
  }
 ],
 "metadata": {
  "kernelspec": {
   "display_name": "Python 3",
   "language": "python",
   "name": "python3"
  },
  "language_info": {
   "codemirror_mode": {
    "name": "ipython",
    "version": 3
   },
   "file_extension": ".py",
   "mimetype": "text/x-python",
   "name": "python",
   "nbconvert_exporter": "python",
   "pygments_lexer": "ipython3",
   "version": "3.7.9"
  }
 },
 "nbformat": 4,
 "nbformat_minor": 4
}
