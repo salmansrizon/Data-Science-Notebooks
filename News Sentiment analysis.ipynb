{
 "cells": [
  {
   "cell_type": "code",
   "execution_count": 30,
   "metadata": {},
   "outputs": [],
   "source": [
    "from IPython import display\n",
    "import math\n",
    "from pprint import pprint\n",
    "import pandas as pd\n",
    "import numpy as np\n",
    "import nltk\n",
    "import matplotlib.pyplot as plt\n",
    "import seaborn as sns\n",
    "sns.set(style = 'darkgrid', context='talk', palette = 'Dark2')"
   ]
  },
  {
   "cell_type": "code",
   "execution_count": 3,
   "metadata": {},
   "outputs": [],
   "source": [
    "import praw \n",
    "reddit = praw.Reddit(client_id='KgFBUmRPl1whtw',\n",
    "                     client_secret='gmOJmuS3iDRwrUnhmn0CYtpnGGY',\n",
    "                     user_agent='LearnDataSci')"
   ]
  },
  {
   "cell_type": "code",
   "execution_count": 4,
   "metadata": {},
   "outputs": [],
   "source": [
    "headlines = set()"
   ]
  },
  {
   "cell_type": "code",
   "execution_count": 75,
   "metadata": {},
   "outputs": [
    {
     "name": "stdout",
     "output_type": "stream",
     "text": [
      "1888\n"
     ]
    }
   ],
   "source": [
    "for submission in reddit.subreddit('politics').new(limit = None):\n",
    "    headlines.add(submission.title)\n",
    "    display.clear_output()\n",
    "    print(len(headlines))"
   ]
  },
  {
   "cell_type": "code",
   "execution_count": 76,
   "metadata": {},
   "outputs": [
    {
     "name": "stdout",
     "output_type": "stream",
     "text": [
      "[{'compound': 0.1027,\n",
      "  'headline': 'Why Elizabeth Warren Needed to Apologize to the Cherokee Nation for Her DNA Test',\n",
      "  'neg': 0.0,\n",
      "  'neu': 0.903,\n",
      "  'pos': 0.097},\n",
      " {'compound': 0.0,\n",
      "  'headline': 'Economy adds 304K jobs in January',\n",
      "  'neg': 0.0,\n",
      "  'neu': 1.0,\n",
      "  'pos': 0.0},\n",
      " {'compound': 0.6808,\n",
      "  'headline': 'The Senate and intelligence community rebuked Trump on national security this week. '\n",
      "              'Here’s why that matters – a lot.',\n",
      "  'neg': 0.0,\n",
      "  'neu': 0.68,\n",
      "  'pos': 0.32},\n",
      " {'compound': 0.0,\n",
      "  'headline': \"Trump's trade plan against China is working\",\n",
      "  'neg': 0.0,\n",
      "  'neu': 1.0,\n",
      "  'pos': 0.0},\n",
      " {'compound': -0.9274,\n",
      "  'headline': 'Scientists have discovered how autophagy, which had previously been thought to fuel '\n",
      "              'cancer growth may actually prevent early cancer development by promoting the death '\n",
      "              'of cells in crisis.',\n",
      "  'neg': 0.382,\n",
      "  'neu': 0.477,\n",
      "  'pos': 0.141},\n",
      " {'compound': 0.4404,\n",
      "  'headline': \"Kellyanne Conway Just Made The Strongest Case For Not Building Trump's Wall\",\n",
      "  'neg': 0.0,\n",
      "  'neu': 0.791,\n",
      "  'pos': 0.209},\n",
      " {'compound': 0.0,\n",
      "  'headline': 'Democrat Cory Booker announces White House run',\n",
      "  'neg': 0.0,\n",
      "  'neu': 1.0,\n",
      "  'pos': 0.0},\n",
      " {'compound': 0.0258,\n",
      "  'headline': 'The costs of climate change could reach 10 percent of the entire U.S. economy by '\n",
      "              'the end of the century.',\n",
      "  'neg': 0.0,\n",
      "  'neu': 0.945,\n",
      "  'pos': 0.055},\n",
      " {'compound': 0.5267,\n",
      "  'headline': 'Scientists have used a Nobel-prize winning chemistry technique (Spectroscopic '\n",
      "              'Single Particle Reconstruction) on a mixture of metals to potentially reduce the '\n",
      "              'cost of fuel cells used in electric cars and reduce harmful emissions from '\n",
      "              'conventional vehicles',\n",
      "  'neg': 0.0,\n",
      "  'neu': 0.907,\n",
      "  'pos': 0.093},\n",
      " {'compound': -0.3182,\n",
      "  'headline': 'An evolutionarily-conserved Wnt3/β-catenin/Sp5 feedback loop restricts head '\n",
      "              'organizer activity in Hydra',\n",
      "  'neg': 0.187,\n",
      "  'neu': 0.813,\n",
      "  'pos': 0.0}]\n"
     ]
    }
   ],
   "source": [
    "from nltk.sentiment.vader import SentimentIntensityAnalyzer as SIA\n",
    "\n",
    "sia = SIA()\n",
    "results = []\n",
    "for line in headlines:\n",
    "    pol_score = sia.polarity_scores(line)\n",
    "    pol_score['headline'] = line\n",
    "    results.append(pol_score)\n",
    "    \n",
    "pprint(results[:10], width= 100)"
   ]
  },
  {
   "cell_type": "code",
   "execution_count": 66,
   "metadata": {},
   "outputs": [
    {
     "data": {
      "text/html": [
       "<div>\n",
       "<style scoped>\n",
       "    .dataframe tbody tr th:only-of-type {\n",
       "        vertical-align: middle;\n",
       "    }\n",
       "\n",
       "    .dataframe tbody tr th {\n",
       "        vertical-align: top;\n",
       "    }\n",
       "\n",
       "    .dataframe thead th {\n",
       "        text-align: right;\n",
       "    }\n",
       "</style>\n",
       "<table border=\"1\" class=\"dataframe\">\n",
       "  <thead>\n",
       "    <tr style=\"text-align: right;\">\n",
       "      <th></th>\n",
       "      <th>compound</th>\n",
       "      <th>headline</th>\n",
       "      <th>neg</th>\n",
       "      <th>neu</th>\n",
       "      <th>pos</th>\n",
       "    </tr>\n",
       "  </thead>\n",
       "  <tbody>\n",
       "    <tr>\n",
       "      <th>0</th>\n",
       "      <td>0.1027</td>\n",
       "      <td>Why Elizabeth Warren Needed to Apologize to th...</td>\n",
       "      <td>0.000</td>\n",
       "      <td>0.903</td>\n",
       "      <td>0.097</td>\n",
       "    </tr>\n",
       "    <tr>\n",
       "      <th>1</th>\n",
       "      <td>0.0000</td>\n",
       "      <td>Economy adds 304K jobs in January</td>\n",
       "      <td>0.000</td>\n",
       "      <td>1.000</td>\n",
       "      <td>0.000</td>\n",
       "    </tr>\n",
       "    <tr>\n",
       "      <th>2</th>\n",
       "      <td>0.6808</td>\n",
       "      <td>The Senate and intelligence community rebuked ...</td>\n",
       "      <td>0.000</td>\n",
       "      <td>0.680</td>\n",
       "      <td>0.320</td>\n",
       "    </tr>\n",
       "    <tr>\n",
       "      <th>3</th>\n",
       "      <td>0.0000</td>\n",
       "      <td>Trump's trade plan against China is working</td>\n",
       "      <td>0.000</td>\n",
       "      <td>1.000</td>\n",
       "      <td>0.000</td>\n",
       "    </tr>\n",
       "    <tr>\n",
       "      <th>4</th>\n",
       "      <td>-0.9274</td>\n",
       "      <td>Scientists have discovered how autophagy, whic...</td>\n",
       "      <td>0.382</td>\n",
       "      <td>0.477</td>\n",
       "      <td>0.141</td>\n",
       "    </tr>\n",
       "  </tbody>\n",
       "</table>\n",
       "</div>"
      ],
      "text/plain": [
       "   compound                                           headline    neg    neu  \\\n",
       "0    0.1027  Why Elizabeth Warren Needed to Apologize to th...  0.000  0.903   \n",
       "1    0.0000                  Economy adds 304K jobs in January  0.000  1.000   \n",
       "2    0.6808  The Senate and intelligence community rebuked ...  0.000  0.680   \n",
       "3    0.0000        Trump's trade plan against China is working  0.000  1.000   \n",
       "4   -0.9274  Scientists have discovered how autophagy, whic...  0.382  0.477   \n",
       "\n",
       "     pos  \n",
       "0  0.097  \n",
       "1  0.000  \n",
       "2  0.320  \n",
       "3  0.000  \n",
       "4  0.141  "
      ]
     },
     "execution_count": 66,
     "metadata": {},
     "output_type": "execute_result"
    }
   ],
   "source": [
    "df = pd.DataFrame.from_records(results)\n",
    "df.head()"
   ]
  },
  {
   "cell_type": "code",
   "execution_count": 73,
   "metadata": {},
   "outputs": [
    {
     "data": {
      "text/html": [
       "<div>\n",
       "<style scoped>\n",
       "    .dataframe tbody tr th:only-of-type {\n",
       "        vertical-align: middle;\n",
       "    }\n",
       "\n",
       "    .dataframe tbody tr th {\n",
       "        vertical-align: top;\n",
       "    }\n",
       "\n",
       "    .dataframe thead th {\n",
       "        text-align: right;\n",
       "    }\n",
       "</style>\n",
       "<table border=\"1\" class=\"dataframe\">\n",
       "  <thead>\n",
       "    <tr style=\"text-align: right;\">\n",
       "      <th></th>\n",
       "      <th>compound</th>\n",
       "      <th>headline</th>\n",
       "      <th>neg</th>\n",
       "      <th>neu</th>\n",
       "      <th>pos</th>\n",
       "      <th>label</th>\n",
       "    </tr>\n",
       "  </thead>\n",
       "  <tbody>\n",
       "    <tr>\n",
       "      <th>0</th>\n",
       "      <td>0.1027</td>\n",
       "      <td>Why Elizabeth Warren Needed to Apologize to th...</td>\n",
       "      <td>0.000</td>\n",
       "      <td>0.903</td>\n",
       "      <td>0.097</td>\n",
       "      <td>-1</td>\n",
       "    </tr>\n",
       "    <tr>\n",
       "      <th>1</th>\n",
       "      <td>0.0000</td>\n",
       "      <td>Economy adds 304K jobs in January</td>\n",
       "      <td>0.000</td>\n",
       "      <td>1.000</td>\n",
       "      <td>0.000</td>\n",
       "      <td>-1</td>\n",
       "    </tr>\n",
       "    <tr>\n",
       "      <th>2</th>\n",
       "      <td>0.6808</td>\n",
       "      <td>The Senate and intelligence community rebuked ...</td>\n",
       "      <td>0.000</td>\n",
       "      <td>0.680</td>\n",
       "      <td>0.320</td>\n",
       "      <td>-1</td>\n",
       "    </tr>\n",
       "    <tr>\n",
       "      <th>3</th>\n",
       "      <td>0.0000</td>\n",
       "      <td>Trump's trade plan against China is working</td>\n",
       "      <td>0.000</td>\n",
       "      <td>1.000</td>\n",
       "      <td>0.000</td>\n",
       "      <td>-1</td>\n",
       "    </tr>\n",
       "    <tr>\n",
       "      <th>4</th>\n",
       "      <td>-0.9274</td>\n",
       "      <td>Scientists have discovered how autophagy, whic...</td>\n",
       "      <td>0.382</td>\n",
       "      <td>0.477</td>\n",
       "      <td>0.141</td>\n",
       "      <td>0</td>\n",
       "    </tr>\n",
       "  </tbody>\n",
       "</table>\n",
       "</div>"
      ],
      "text/plain": [
       "   compound                                           headline    neg    neu  \\\n",
       "0    0.1027  Why Elizabeth Warren Needed to Apologize to th...  0.000  0.903   \n",
       "1    0.0000                  Economy adds 304K jobs in January  0.000  1.000   \n",
       "2    0.6808  The Senate and intelligence community rebuked ...  0.000  0.680   \n",
       "3    0.0000        Trump's trade plan against China is working  0.000  1.000   \n",
       "4   -0.9274  Scientists have discovered how autophagy, whic...  0.382  0.477   \n",
       "\n",
       "     pos  label  \n",
       "0  0.097     -1  \n",
       "1  0.000     -1  \n",
       "2  0.320     -1  \n",
       "3  0.000     -1  \n",
       "4  0.141      0  "
      ]
     },
     "execution_count": 73,
     "metadata": {},
     "output_type": "execute_result"
    }
   ],
   "source": [
    "df['label'] = 0\n",
    "df.loc[df['compound'] > 0.1, 'label'] = 1\n",
    "df.loc[df['compound'] > -0.2, 'label'] = -1\n",
    "df.head()"
   ]
  },
  {
   "cell_type": "markdown",
   "metadata": {},
   "source": [
    "df.label.value_counts()"
   ]
  },
  {
   "cell_type": "code",
   "execution_count": 77,
   "metadata": {},
   "outputs": [
    {
     "name": "stdout",
     "output_type": "stream",
     "text": [
      "Positive headlines:\n",
      "\n",
      "[]\n",
      "Negative headlines:\n",
      "\n",
      "['Why Elizabeth Warren Needed to Apologize to the Cherokee Nation for Her DNA Test',\n",
      " 'Economy adds 304K jobs in January',\n",
      " 'The Senate and intelligence community rebuked Trump on national security this week. Here’s why that matters – a lot.',\n",
      " \"Trump's trade plan against China is working\",\n",
      " \"Kellyanne Conway Just Made The Strongest Case For Not Building Trump's Wall\",\n",
      " 'Democrat Cory Booker announces White House run',\n",
      " 'The costs of climate change could reach 10 percent of the entire U.S. economy by the end of the century.',\n",
      " 'Scientists have used a Nobel-prize winning chemistry technique (Spectroscopic Single Particle Reconstruction) on a mixture of metals to potentially reduce the cost of fuel cells used in electric '\n",
      " 'cars and reduce harmful emissions from conventional vehicles',\n",
      " 'Utah GOP lawmakers move to limit voter-approved Medicaid expansion',\n",
      " 'Researchers in the US demonstrate “gene drive”, breaking the normal rules of inheritance to ensure certain genes, often modified versions, are passed on from one generation to another at a higher '\n",
      " 'rate than normal in mice.',\n",
      " 'After 3 months, cold stored beer already loses more than a third of an important hop odorant that characterizes the aroma of many craft beers. Storage at room temperature causes the concentration '\n",
      " 'of this substance to decrease even more significantly.',\n",
      " 'Only 1 out of 36 newly elected female representatives in Congress is Republican – here’s why it matter',\n",
      " '15 ways the Trump administration has impacted the environment',\n",
      " 'Searching for the Genetic Underpinnings of Morning Persons and Night Owls',\n",
      " 'More than 300 people on Texas voter list of potential noncitizens are citizens: report',\n",
      " 'Pharmacophore-based models for therapeutic drugs against phosphorylated tau in Alzheimer’s disease',\n",
      " 'Black households pay more rent for identical housing in identical neighborhoods than their white counterparts. This rent gap increases as the fraction of white households in a neighborhood '\n",
      " 'increases.',\n",
      " 'Scientists demonstrate that smoking status can be predicted using blood biochemistry, cell count, and artificial intelligence.',\n",
      " 'The Schism Is Finally Here',\n",
      " \"How growth in manufacturing jobs drove January's strong economic results\",\n",
      " 'Astronomers Have Discovered Three New Globular Clusters In The Heart Of The Milky Way',\n",
      " 'Natural Resources Committee Feb. 6 Climate Change Hearing Will Feature Governors, Youth Leader, Climate and Environmental Justice Advocates',\n",
      " 'Trump set to pull out of nuclear treaty with Russia within hours | The Independent',\n",
      " 'A refugee herself, Rep. Ilhan Omar hopes to crack open the door to America for others to follow',\n",
      " 'A quantum degenerate gas of ultracold molecules',\n",
      " 'Complex Molecules that Fold like Proteins Can Emerge Spontaneously From Nonbiological Chemistry',\n",
      " 'Observations and models agree that the oceans are warming faster',\n",
      " 'Trump’s Coup in Venezuela: The Full Story',\n",
      " 'The Welfare Effects of Social Media',\n",
      " 'A study has found climate change could alter the proportion of male and female newborns, with more boys born in places where temperatures rise and fewer boys born in places with other '\n",
      " 'environmental changes, such as drought or wildfire caused by global warming',\n",
      " 'Glaciers in western North America, excluding Alaska, are melting four times faster than in the previous decade, with changes in the jet stream exacerbating the longer-term effects of climate '\n",
      " 'change, according to a new study.',\n",
      " 'Human-specific ARHGAP11B induces hallmarks of neocortical expansion in developing ferret neocortex',\n",
      " 'Rather than building up plastic filaments layer by layer, a new approach to 3D printing uses light, and lifts complex shapes from a vat of liquid at up to 100 times faster than conventional 3D '\n",
      " 'printing processes.',\n",
      " \"From Reagan to Trump: Here's how stocks performed under each president\",\n",
      " 'According to a new study, prolonged exposure to an indulgent/rewarding food scent induces pleasure in the reward circuitry, which in turn diminishes the desire for actual consumption of indulgent '\n",
      " 'foods.',\n",
      " '[Geology] Heterogeneous retreat and ice melt of Thwaites Glacier, West Antarctica',\n",
      " \"EPA's Wheeler continues frequent meetings with industry his agency regulates\",\n",
      " '2-Million-Year-Old Hominin Fossils Found In Malapa Cave Confirmed As Human ‘Missing Link’',\n",
      " 'Crows can guess the weight of an object by watching it sway in wind',\n",
      " 'With Government Open Again, Trump Heads for Florida',\n",
      " 'Researchers suggest important areas of research ecologists studying the sustainability of the insects-as-food industry should focus on',\n",
      " 'Undocumented Former Trump Worker to Attend State of the Union Speech',\n",
      " 'Researchers find that the WTp53 protein (Wild-type p53), widely known for its tumor suppression function, may also boost tumour growth in certain instances.',\n",
      " 'House Democrats Announce Public Hearings Focused on ‘Presidential Tax Returns’',\n",
      " 'Young Trans Children Know Who They Are A new study shows that gender-nonconforming kids who go on to transition already have a strong sense of their true identity—one that differs from their '\n",
      " 'assigned gender.',\n",
      " 'Mysterious radio signals from a galaxy 1.5 billion light years away have been picked up by a telescope in Canada. 13 Fast Radio Bursts were detected, including an unusual repeating signal',\n",
      " 'Pence in Florida: Time to end Maduro regime in Venezuela',\n",
      " 'Pregnant women who get a flu shot protect not only themselves, but also their developing baby, finds a new study. The findings support the importance of pregnant women receiving the influenza '\n",
      " 'vaccine.',\n",
      " 'New Book Reveals the Obamacare Cowardice of Chief Justice John Roberts',\n",
      " 'Children glued to screens show delays in key skills',\n",
      " \"Waves in Saturn's rings give precise measurement of planet's rotation rate\",\n",
      " 'U.S. withdraws from the INF Treaty with Russia',\n",
      " 'The impact of Bt maize expressing the Cry1Ac protein on non-target arthropods | None.',\n",
      " 'Investigators Are Zeroing In on Top NRA Leaders’ Russia Ties',\n",
      " \"Lab-Made Evidence of Stephen Hawking's Black Hole Radiation Theory\",\n",
      " 'Media Rally Around ‘Forever War’ in Afghanistan',\n",
      " 'Problem-solving males become more attractive to female budgerigars',\n",
      " \"New material could ‘drive wound healing’ using the body's inbuilt healing system\",\n",
      " 'Exposing Trump supporters to fact-checks of remarks by Trump led them to improve the accuracy of their factual beliefs but had minimal effects on their evaluations of Trump or vote choice.',\n",
      " 'Thickness dependent electronic properties of Pt dichalcogenides',\n",
      " 'Online digital health interventions have shown promise in helping people lose weight. But a new analysis suggests weight loss results for obese people are moderate and short-term.',\n",
      " 'You can train your brain to form good habits – like going to the gym and eating healthily – simply by repeating actions until they stick, regardless of how much satisfaction you get from it, '\n",
      " 'according to new research using computer simulations of digital rodents.',\n",
      " 'Are magic mushrooms legal? Denver to let voters decide',\n",
      " 'Author of controversial Nunes memo joining National Security Council',\n",
      " 'Physicists Record Temporal Coherence of a Graphene Qubit',\n",
      " 'Mites that feed on llama poop may track the rise and fall of the Incan Empire | Science',\n",
      " \"There's a universal genetic signature for monogamy in species as diverse as fish and birds, scientists have found. The discovery suggests evolution may have also led to a common genetic basis for \"\n",
      " 'other complex, social behaviors, too.',\n",
      " 'Archaeologists unearth skeleton of woman who was probably a skilled artist that helped produce the richly illustrated religious texts of medieval Europe. She died with tiny flecks of lapis lazuli '\n",
      " 'pigment still caught in her teeth, probably from licking the tip of her paintbrush to make a finer point',\n",
      " 'Colorado Senate passes bill to essentially eliminate Electoral College',\n",
      " 'Virginia Governor’s Yearbook Page Shows Men in Blackface and K.K.K. Attire',\n",
      " \"A new study shows that, at least in theory, a company, government or other actor can accurately profile a person from their friends, even if they've never been on social media or delete their \"\n",
      " 'account.',\n",
      " 'Former Oklahoma senator ordered to pay restitution for child sex trafficking',\n",
      " 'US intelligence warns China using student spies to steal secrets',\n",
      " 'New research provides some new insights into magnetic quantum effects in solid.',\n",
      " 'Women were elite scribes during the Middle Ages, too. The evidence comes from traces of lapis lazuli — used to make the rare pigment ultramarine — in the teeth of a woman buried in Germany.',\n",
      " 'Technique identifies electricity-producing bacteria',\n",
      " 'In disasters, emergency responders often ignore or incorrectly use triage methods meant to ensure victims are treated efficiently. A new study suggests augmented reality, achieved via smart '\n",
      " 'glasses and an Android app, can improve accuracy. But triage took almost twice as long.',\n",
      " 'The President and the Publisher',\n",
      " 'Researchers discovered that feeding mice a high fat diet may increase risk of Listeria infections',\n",
      " 'Future changes in human well-being to depend more on social factors than economic factors. The results highlight the critical role of non-material factors such as social supports, freedoms, and '\n",
      " 'fairness in determining the future of human well-being',\n",
      " 'Democrats in presidential race call on Virginia governor to quit over KKK photo',\n",
      " 'An old-school Democrat takes on Trump’s foreign policy',\n",
      " 'There are five types of insomnia, each with its own distinct features, according to a recent study. By enlisting the help of thousands of volunteer participants for the study, the scientists were '\n",
      " 'able to discover that insomnia is a more complicated health issue than many people may have thought.',\n",
      " 'Opinion | How Republicans Erased Trumpism',\n",
      " 'A moderate level of piracy can have a positive impact on the bottom line for both manufacturer and retailer - and not at the expense of consumers - finds a new study. Because piracy can affect '\n",
      " 'pricing power of manufacturer and retailer, it injects \"shadow\" competition into a monopolistic market.',\n",
      " \"Michael Moore says Dems need to accept far-left Ocasio-Cortez as party leader: 'No middle ground anymore'\",\n",
      " 'New Jersey Democrat Josh Gottheimer: Lawmakers have to work together',\n",
      " 'Birth of Moon may have given the Earth ingredients for Life',\n",
      " 'Researchers Home in on When Different Hominins Shared Denisova Cave',\n",
      " 'Approximate Bayesian computation with deep learning supports a third archaic introgression in Asia and Oceania | Nature Communications',\n",
      " \"Virginia governor's yearbook page shows photo of men in blackface, KKK robes\",\n",
      " 'Congressman Alerts Ethics Committee Over Steve King’s Continued White Nationalism',\n",
      " 'Trump says he never asked Stone about WikiLeaks',\n",
      " 'With government open again, Trump at last bound for Florida',\n",
      " \"New research shows how the effects of Lupus are caused by different autoantibody immune 'rogue clones' that target specific organs and tissue. Identifying and measuring the specific components of \"\n",
      " 'autoantibody could lead to more targeted treatments for specific patients.',\n",
      " \"What's Mitch McConnell so afraid of?\",\n",
      " 'Belarusian Model Says She Gave Info On Trump-Russia Ties To Russian Oligarch',\n",
      " 'Study: Alabama, Red States Will Bear Brunt of Climate Change',\n",
      " 'Howard Schultz Derangement Syndrome',\n",
      " \"Accumulation of fat in the brain could be an early, druggable, driver of Alzheimer's disease\"]\n"
     ]
    }
   ],
   "source": [
    "print(\"Positive headlines:\\n\")\n",
    "pprint(list(df[df['label'] == 1].headline)[:100], width = 200)\n",
    "\n",
    "print(\"Negative headlines:\\n\")\n",
    "pprint(list(df[df['label'] == -1].headline)[:100], width = 200)"
   ]
  },
  {
   "cell_type": "code",
   "execution_count": 78,
   "metadata": {},
   "outputs": [
    {
     "data": {
      "text/plain": [
       "-1    67.835942\n",
       " 0    32.164058\n",
       "Name: label, dtype: float64"
      ]
     },
     "execution_count": 78,
     "metadata": {},
     "output_type": "execute_result"
    }
   ],
   "source": [
    "df.label.value_counts(normalize=True) * 100"
   ]
  },
  {
   "cell_type": "code",
   "execution_count": 79,
   "metadata": {},
   "outputs": [
    {
     "data": {
      "image/png": "[encoded data removed]",
      "text/plain": [
       "<Figure size 576x576 with 1 Axes>"
      ]
     },
     "metadata": {
      "needs_background": "light"
     },
     "output_type": "display_data"
    }
   ],
   "source": [
    "fig, ax = plt.subplots(figsize=(8, 8))\n",
    "counts = df.label.value_counts(normalize=True) * 100\n",
    "sns.barplot(x = counts.index, y = counts, ax = ax)\n",
    "ax.set_xticklabels(['Negative','Neutral','Positive'])\n",
    "ax.set_ylabel(\"Percentage\")\n",
    "plt.show()"
   ]
  },
  {
   "cell_type": "code",
   "execution_count": 33,
   "metadata": {},
   "outputs": [
    {
     "name": "stdout",
     "output_type": "stream",
     "text": [
      "['This', 'is', 'a', 'example', 'sentenc', '!', 'However', ',', 'it', 'is', \"n't\", 'a', 'very', 'informative', 'one']\n"
     ]
    }
   ],
   "source": [
    "from nltk.tokenize import word_tokenize, RegexpTokenizer\n",
    "\n",
    "example = \"This is a example sentenc! However, it isn't a very informative one\"\n",
    "print(word_tokenize(example, language = 'english'))"
   ]
  },
  {
   "cell_type": "code",
   "execution_count": 34,
   "metadata": {},
   "outputs": [
    {
     "name": "stdout",
     "output_type": "stream",
     "text": [
      "['This', 'is', 'a', 'example', 'sentenc', 'However', 'it', 'isn', 't', 'a', 'very', 'informative', 'one']\n"
     ]
    }
   ],
   "source": [
    "tokenizer = RegexpTokenizer(r'\\w+')\n",
    "print(tokenizer.tokenize(example))"
   ]
  },
  {
   "cell_type": "code",
   "execution_count": 35,
   "metadata": {},
   "outputs": [
    {
     "name": "stdout",
     "output_type": "stream",
     "text": [
      "['i', 'me', 'my', 'myself', 'we', 'our', 'ours', 'ourselves', 'you', \"you're\", \"you've\", \"you'll\", \"you'd\", 'your', 'yours', 'yourself', 'yourselves', 'he', 'him', 'his']\n"
     ]
    }
   ],
   "source": [
    "from nltk.corpus import stopwords\n",
    "stop_words = stopwords.words('english')\n",
    "print(stop_words[:20])"
   ]
  },
  {
   "cell_type": "code",
   "execution_count": 36,
   "metadata": {},
   "outputs": [],
   "source": [
    "def process_text(headlines):\n",
    "    tokens = []\n",
    "    for line in headlines:\n",
    "        line = line.lower()\n",
    "        toks = tokenizer.tokenize(line)\n",
    "        toks = [t for t in toks if t not in stop_words]\n",
    "        tokens.extend(toks)\n",
    "        \n",
    "    return tokens"
   ]
  },
  {
   "cell_type": "code",
   "execution_count": 41,
   "metadata": {},
   "outputs": [
    {
     "data": {
      "text/plain": [
       "[('trump', 179),\n",
       " ('2020', 43),\n",
       " ('northam', 37),\n",
       " ('russia', 36),\n",
       " ('says', 36),\n",
       " ('booker', 34),\n",
       " ('new', 32),\n",
       " ('warren', 31),\n",
       " ('president', 31),\n",
       " ('cory', 29),\n",
       " ('democrats', 29),\n",
       " ('us', 28),\n",
       " ('treaty', 26),\n",
       " ('wall', 25),\n",
       " ('u', 25),\n",
       " ('yearbook', 25),\n",
       " ('blackface', 24),\n",
       " ('virginia', 23),\n",
       " ('photo', 22),\n",
       " ('elizabeth', 21),\n",
       " ('kkk', 19),\n",
       " ('court', 18),\n",
       " ('presidential', 18),\n",
       " ('state', 17),\n",
       " ('nuclear', 17),\n",
       " ('governor', 17),\n",
       " ('ralph', 17),\n",
       " ('tax', 16),\n",
       " ('test', 16),\n",
       " ('democrat', 16),\n",
       " ('house', 16),\n",
       " ('senate', 15),\n",
       " ('border', 15),\n",
       " ('harris', 14),\n",
       " ('mueller', 14),\n",
       " ('could', 14),\n",
       " ('page', 14),\n",
       " ('shows', 14),\n",
       " ('gov', 14),\n",
       " ('schultz', 13),\n",
       " ('bill', 13),\n",
       " ('donald', 13),\n",
       " ('union', 13),\n",
       " ('democratic', 13),\n",
       " ('nation', 12),\n",
       " ('dna', 12),\n",
       " ('campaign', 12),\n",
       " ('arms', 12),\n",
       " ('gop', 12),\n",
       " ('climate', 12),\n",
       " ('kamala', 12),\n",
       " ('venezuela', 12),\n",
       " ('men', 12),\n",
       " ('cherokee', 11),\n",
       " ('announces', 11),\n",
       " ('white', 11),\n",
       " ('dem', 11),\n",
       " ('bid', 11),\n",
       " ('former', 10),\n",
       " ('security', 10),\n",
       " ('supreme', 10),\n",
       " ('cortez', 10),\n",
       " ('howard', 10),\n",
       " ('change', 10),\n",
       " ('public', 10),\n",
       " ('deal', 10),\n",
       " ('rep', 10),\n",
       " ('bank', 10),\n",
       " ('policy', 10),\n",
       " ('investigation', 10),\n",
       " ('national', 9),\n",
       " ('ocasio', 9),\n",
       " ('000', 9),\n",
       " ('republican', 9),\n",
       " ('government', 9),\n",
       " ('florida', 9),\n",
       " ('abortion', 9),\n",
       " ('dems', 9),\n",
       " ('americans', 9),\n",
       " ('school', 9),\n",
       " ('plan', 8),\n",
       " ('administration', 8),\n",
       " ('wisconsin', 8),\n",
       " ('call', 8),\n",
       " ('omar', 8),\n",
       " ('medical', 8),\n",
       " ('net', 8),\n",
       " ('medicare', 8),\n",
       " ('say', 8),\n",
       " ('calls', 8),\n",
       " ('running', 8),\n",
       " ('plans', 8),\n",
       " ('legal', 8),\n",
       " ('agenda', 8),\n",
       " ('resign', 8),\n",
       " ('robe', 8),\n",
       " ('even', 8),\n",
       " ('anti', 8),\n",
       " ('apologizes', 8),\n",
       " ('political', 7)]"
      ]
     },
     "execution_count": 41,
     "metadata": {},
     "output_type": "execute_result"
    }
   ],
   "source": [
    "pos_lines = list(df[df.label == -1].headline)\n",
    "pos_tokens = process_text(pos_lines)\n",
    "pos_freq = nltk.FreqDist(pos_tokens)\n",
    "\n",
    "pos_freq.most_common(100)"
   ]
  },
  {
   "cell_type": "code",
   "execution_count": 42,
   "metadata": {},
   "outputs": [
    {
     "data": {
      "image/png": "[encoded data removed]",
      "text/plain": [
       "<Figure size 720x360 with 1 Axes>"
      ]
     },
     "metadata": {
      "needs_background": "light"
     },
     "output_type": "display_data"
    }
   ],
   "source": [
    "y_val = [x[1] for x in pos_freq.most_common()]\n",
    "fig = plt.figure(figsize = (10,5))\n",
    "plt.plot(y_val)\n",
    "\n",
    "plt.xlabel(\"Words\")\n",
    "plt.ylabel(\"Frequency\")\n",
    "plt.title(\"Word Frequence Distribution (Negative)\")\n",
    "plt.show()"
   ]
  },
  {
   "cell_type": "code",
   "execution_count": null,
   "metadata": {},
   "outputs": [],
   "source": []
  }
 ],
 "metadata": {
  "kernelspec": {
   "display_name": "Python 3",
   "language": "python",
   "name": "python3"
  },
  "language_info": {
   "codemirror_mode": {
    "name": "ipython",
    "version": 3
   },
   "file_extension": ".py",
   "mimetype": "text/x-python",
   "name": "python",
   "nbconvert_exporter": "python",
   "pygments_lexer": "ipython3",
   "version": "3.7.1"
  }
 },
 "nbformat": 4,
 "nbformat_minor": 2
}
