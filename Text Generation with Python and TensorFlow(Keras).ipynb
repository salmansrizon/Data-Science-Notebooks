{
  "nbformat": 4,
  "nbformat_minor": 0,
  "metadata": {
    "colab": {
      "name": "Google News API",
      "provenance": [],
      "collapsed_sections": [],
      "authorship_tag": "ABX9TyNfBneFywgr0ZBFdl+FD7AZ",
      "include_colab_link": true
    },
    "kernelspec": {
      "name": "python3",
      "display_name": "Python 3"
    }
  },
  "cells": [
    {
      "cell_type": "markdown",
      "metadata": {
        "id": "view-in-github",
        "colab_type": "text"
      },
      "source": [
        "<a href=\"https://colab.research.google.com/github/salmansrizon/Python_Examples/blob/master/Text%20Generation%20with%20Python%20and%20TensorFlow(Keras).ipynb\" target=\"_parent\"><img src=\"https://colab.research.google.com/assets/colab-badge.svg\" alt=\"Open In Colab\"/></a>"
      ]
    },
    {
      "cell_type": "markdown",
      "metadata": {
        "id": "eHY8SOowti4Q",
        "colab_type": "text"
      },
      "source": [
        "#Text Generation with Python and TensorFlow(Keras)\n",
        "\n",
        "---\n",
        "\n",
        "Now a days matchine learning is doing a lot of stuff. Narural language processing is one of them. In this article I wanted to  apply a diffrent approch to take this on a new lavel. We are all familier with [google news](https://news.google.com/)  a platform where we can get location based personalized news headlines. This has became a very importent and usefull platform for all online news readers. Generating news headline among these headlines will be more fun to see. So I tried to implement my little knowledge to do this. There is a lot of ways to get the job done in any ml project. As a lazzy person I started googling the stortest ways. Like as always google didn't disappoint me. \n",
        "\n",
        "\n",
        "Here in this experiment I used mainly [NLTK](https://www.nltk.org/) & [Keras](https://keras.io/). Also I followed numeras articles , stackoverflow answers and google seach results. Considering this I will dedicate this experient to google and stackoverflow. \n",
        "\n",
        "\n",
        "> I will try to describe useful topics depends on relevent steps and activity\n",
        " \n",
        "\n",
        "\n",
        "\n",
        "\n",
        "\n",
        "Here is the resoures I follwed during the process \n",
        "\n",
        "\n",
        "\n",
        "\n",
        "*  Google News API: https://github.com/nikhilkumarsingh/gnewsclient\n",
        "*  Sentence generating with keras: https://stackabuse.com/text-generation-with-python-and-tensorflow-keras/\n",
        "\n",
        "\n",
        "Let's get started...\n"
      ]
    },
    {
      "cell_type": "markdown",
      "metadata": {
        "id": "CRc5gwfKBr72",
        "colab_type": "text"
      },
      "source": [
        "> Installing required module for the experiment."
      ]
    },
    {
      "cell_type": "code",
      "metadata": {
        "id": "FfBTxlJBr2Y_",
        "colab_type": "code",
        "colab": {}
      },
      "source": [
        "!pip install gnewsclient\n",
        "!pip install python-Levenshtein\n",
        "!pip install nltk"
      ],
      "execution_count": 0,
      "outputs": []
    },
    {
      "cell_type": "code",
      "metadata": {
        "id": "K_ZgUEUBr_Ji",
        "colab_type": "code",
        "colab": {}
      },
      "source": [
        "from gnewsclient import gnewsclient\n",
        "import pandas as pd\n",
        "import json\n",
        "from pandas.io.json import json_normalize"
      ],
      "execution_count": 0,
      "outputs": []
    },
    {
      "cell_type": "markdown",
      "metadata": {
        "id": "N61mrDqOJeCb",
        "colab_type": "text"
      },
      "source": [
        "For this experiment I used Bangladeshi top national news in english language. If you want to use your personal configaration here is some usefull methods for this api\n",
        "\n",
        "\n",
        "*   `client.locations` - will show the available location for the news. (ex: 'Australia', 'Botswana', 'Canada ', 'Ethiopia')\n",
        "*   `client.languages` - will show the available languages for the news (ex: 'english', 'indonesian', 'czech', 'german' )\n",
        "*  `client.topics` -  will show the available topics for the news (ex: 'Top Stories',\n",
        " 'World',\n",
        " 'Nation',\n",
        " 'Business',\n",
        " 'Technology',\n",
        " 'Entertainment',\n",
        " 'Sports',\n",
        " 'Science',\n",
        " 'Health')\n",
        "\n"
      ]
    },
    {
      "cell_type": "code",
      "metadata": {
        "id": "hCcMQ9TtzNXO",
        "colab_type": "code",
        "colab": {}
      },
      "source": [
        "client = gnewsclient.NewsClient(language='en', location='Bangladesh', topic='Nation', max_results=100)\n",
        "# client.topics\n",
        "data = client.get_news()"
      ],
      "execution_count": 0,
      "outputs": []
    },
    {
      "cell_type": "markdown",
      "metadata": {
        "id": "L2TrZ_L1Laev",
        "colab_type": "text"
      },
      "source": [
        "\n",
        "\n",
        "> Converting API responce to a pandas dataframe\n",
        "\n"
      ]
    },
    {
      "cell_type": "code",
      "metadata": {
        "id": "WltjVgQJsV2i",
        "colab_type": "code",
        "outputId": "f148eb5e-6966-4b92-f616-1d8ac032ef34",
        "colab": {
          "base_uri": "https://localhost:8080/",
          "height": 204
        }
      },
      "source": [
        "data = pd.DataFrame(data)\n",
        "data.head(5)"
      ],
      "execution_count": 5,
      "outputs": [
        {
          "output_type": "execute_result",
          "data": {
            "text/html": [
              "<div>\n",
              "<style scoped>\n",
              "    .dataframe tbody tr th:only-of-type {\n",
              "        vertical-align: middle;\n",
              "    }\n",
              "\n",
              "    .dataframe tbody tr th {\n",
              "        vertical-align: top;\n",
              "    }\n",
              "\n",
              "    .dataframe thead th {\n",
              "        text-align: right;\n",
              "    }\n",
              "</style>\n",
              "<table border=\"1\" class=\"dataframe\">\n",
              "  <thead>\n",
              "    <tr style=\"text-align: right;\">\n",
              "      <th></th>\n",
              "      <th>title</th>\n",
              "      <th>link</th>\n",
              "      <th>media</th>\n",
              "    </tr>\n",
              "  </thead>\n",
              "  <tbody>\n",
              "    <tr>\n",
              "      <th>0</th>\n",
              "      <td>Bangladesh Suppliers Barely Afloat As Clothing...</td>\n",
              "      <td>https://news.google.com/__i/rss/rd/articles/CB...</td>\n",
              "      <td>None</td>\n",
              "    </tr>\n",
              "    <tr>\n",
              "      <th>1</th>\n",
              "      <td>Bangladesh quarantines hundreds of Rohingya re...</td>\n",
              "      <td>https://news.google.com/__i/rss/rd/articles/CB...</td>\n",
              "      <td>None</td>\n",
              "    </tr>\n",
              "    <tr>\n",
              "      <th>2</th>\n",
              "      <td>Clay layers and distant pumping trigger arseni...</td>\n",
              "      <td>https://news.google.com/__i/rss/rd/articles/CB...</td>\n",
              "      <td>None</td>\n",
              "    </tr>\n",
              "    <tr>\n",
              "      <th>3</th>\n",
              "      <td>Bangladesh cartoonist, writer charged for anti...</td>\n",
              "      <td>https://news.google.com/__i/rss/rd/articles/CB...</td>\n",
              "      <td>None</td>\n",
              "    </tr>\n",
              "    <tr>\n",
              "      <th>4</th>\n",
              "      <td>Bangladesh Sends 28 Rohingya Refugees To Cyclo...</td>\n",
              "      <td>https://news.google.com/__i/rss/rd/articles/CB...</td>\n",
              "      <td>None</td>\n",
              "    </tr>\n",
              "  </tbody>\n",
              "</table>\n",
              "</div>"
            ],
            "text/plain": [
              "                                               title  ... media\n",
              "0  Bangladesh Suppliers Barely Afloat As Clothing...  ...  None\n",
              "1  Bangladesh quarantines hundreds of Rohingya re...  ...  None\n",
              "2  Clay layers and distant pumping trigger arseni...  ...  None\n",
              "3  Bangladesh cartoonist, writer charged for anti...  ...  None\n",
              "4  Bangladesh Sends 28 Rohingya Refugees To Cyclo...  ...  None\n",
              "\n",
              "[5 rows x 3 columns]"
            ]
          },
          "metadata": {
            "tags": []
          },
          "execution_count": 5
        }
      ]
    },
    {
      "cell_type": "markdown",
      "metadata": {
        "id": "ruc3x1yJLt5w",
        "colab_type": "text"
      },
      "source": [
        "> Spliting the title in to headline and News source"
      ]
    },
    {
      "cell_type": "code",
      "metadata": {
        "id": "amPautJOFKFX",
        "colab_type": "code",
        "outputId": "e2ef6114-4f81-424f-b6a9-6bdd050606f7",
        "colab": {
          "base_uri": "https://localhost:8080/",
          "height": 204
        }
      },
      "source": [
        "data[['headline','Source']] = data['title'].str.split(\" - \",n=1,expand=True)\n",
        "data.head(5)"
      ],
      "execution_count": 6,
      "outputs": [
        {
          "output_type": "execute_result",
          "data": {
            "text/html": [
              "<div>\n",
              "<style scoped>\n",
              "    .dataframe tbody tr th:only-of-type {\n",
              "        vertical-align: middle;\n",
              "    }\n",
              "\n",
              "    .dataframe tbody tr th {\n",
              "        vertical-align: top;\n",
              "    }\n",
              "\n",
              "    .dataframe thead th {\n",
              "        text-align: right;\n",
              "    }\n",
              "</style>\n",
              "<table border=\"1\" class=\"dataframe\">\n",
              "  <thead>\n",
              "    <tr style=\"text-align: right;\">\n",
              "      <th></th>\n",
              "      <th>title</th>\n",
              "      <th>link</th>\n",
              "      <th>media</th>\n",
              "      <th>headline</th>\n",
              "      <th>Source</th>\n",
              "    </tr>\n",
              "  </thead>\n",
              "  <tbody>\n",
              "    <tr>\n",
              "      <th>0</th>\n",
              "      <td>Bangladesh Suppliers Barely Afloat As Clothing...</td>\n",
              "      <td>https://news.google.com/__i/rss/rd/articles/CB...</td>\n",
              "      <td>None</td>\n",
              "      <td>Bangladesh Suppliers Barely Afloat As Clothing...</td>\n",
              "      <td>Forbes</td>\n",
              "    </tr>\n",
              "    <tr>\n",
              "      <th>1</th>\n",
              "      <td>Bangladesh quarantines hundreds of Rohingya re...</td>\n",
              "      <td>https://news.google.com/__i/rss/rd/articles/CB...</td>\n",
              "      <td>None</td>\n",
              "      <td>Bangladesh quarantines hundreds of Rohingya re...</td>\n",
              "      <td>Al Jazeera English</td>\n",
              "    </tr>\n",
              "    <tr>\n",
              "      <th>2</th>\n",
              "      <td>Clay layers and distant pumping trigger arseni...</td>\n",
              "      <td>https://news.google.com/__i/rss/rd/articles/CB...</td>\n",
              "      <td>None</td>\n",
              "      <td>Clay layers and distant pumping trigger arseni...</td>\n",
              "      <td>Phys.org</td>\n",
              "    </tr>\n",
              "    <tr>\n",
              "      <th>3</th>\n",
              "      <td>Bangladesh cartoonist, writer charged for anti...</td>\n",
              "      <td>https://news.google.com/__i/rss/rd/articles/CB...</td>\n",
              "      <td>None</td>\n",
              "      <td>Bangladesh cartoonist, writer charged for anti...</td>\n",
              "      <td>Al Jazeera English</td>\n",
              "    </tr>\n",
              "    <tr>\n",
              "      <th>4</th>\n",
              "      <td>Bangladesh Sends 28 Rohingya Refugees To Cyclo...</td>\n",
              "      <td>https://news.google.com/__i/rss/rd/articles/CB...</td>\n",
              "      <td>None</td>\n",
              "      <td>Bangladesh Sends 28 Rohingya Refugees To Cyclo...</td>\n",
              "      <td>NPR</td>\n",
              "    </tr>\n",
              "  </tbody>\n",
              "</table>\n",
              "</div>"
            ],
            "text/plain": [
              "                                               title  ...              Source\n",
              "0  Bangladesh Suppliers Barely Afloat As Clothing...  ...              Forbes\n",
              "1  Bangladesh quarantines hundreds of Rohingya re...  ...  Al Jazeera English\n",
              "2  Clay layers and distant pumping trigger arseni...  ...            Phys.org\n",
              "3  Bangladesh cartoonist, writer charged for anti...  ...  Al Jazeera English\n",
              "4  Bangladesh Sends 28 Rohingya Refugees To Cyclo...  ...                 NPR\n",
              "\n",
              "[5 rows x 5 columns]"
            ]
          },
          "metadata": {
            "tags": []
          },
          "execution_count": 6
        }
      ]
    },
    {
      "cell_type": "markdown",
      "metadata": {
        "id": "aYvVBXaBMFqu",
        "colab_type": "text"
      },
      "source": [
        " > Taking only headline coloumn for next step"
      ]
    },
    {
      "cell_type": "code",
      "metadata": {
        "id": "KHh0aMIxGKo3",
        "colab_type": "code",
        "outputId": "b1beadd5-223f-4177-9f29-d9e9d93c2808",
        "colab": {
          "base_uri": "https://localhost:8080/",
          "height": 119
        }
      },
      "source": [
        "headlines = data['headline']\n",
        "headlines.head(5)"
      ],
      "execution_count": 7,
      "outputs": [
        {
          "output_type": "execute_result",
          "data": {
            "text/plain": [
              "0    Bangladesh Suppliers Barely Afloat As Clothing...\n",
              "1    Bangladesh quarantines hundreds of Rohingya re...\n",
              "2    Clay layers and distant pumping trigger arseni...\n",
              "3    Bangladesh cartoonist, writer charged for anti...\n",
              "4    Bangladesh Sends 28 Rohingya Refugees To Cyclo...\n",
              "Name: headline, dtype: object"
            ]
          },
          "metadata": {
            "tags": []
          },
          "execution_count": 7
        }
      ]
    },
    {
      "cell_type": "markdown",
      "metadata": {
        "id": "F0RsuFpyMVk7",
        "colab_type": "text"
      },
      "source": [
        "### Sentiment analysis for the headlines\n",
        "\n",
        "In this step I will try to understand the sentiments of the news headline with NLTK's `SentimentIntensityAnalyzer` module. Mian goal in this step is to fregment the sentiments into positive, nutral & negative.\n",
        "\n",
        "> Impoting the necessery module and libraries"
      ]
    },
    {
      "cell_type": "code",
      "metadata": {
        "id": "GPqyo-eJHmBn",
        "colab_type": "code",
        "outputId": "4341fd19-1a4d-411b-b8af-665ac4b383f5",
        "colab": {
          "base_uri": "https://localhost:8080/",
          "height": 102
        }
      },
      "source": [
        "from pprint import pprint\n",
        "import numpy as np\n",
        "import nltk\n",
        "nltk.download('vader_lexicon')\n",
        "import matplotlib.pyplot as plt\n",
        "import seaborn as sns\n",
        "sns.set(style = 'darkgrid', context='talk', palette = 'Dark2')\n",
        "from nltk.sentiment.vader import SentimentIntensityAnalyzer as SIA"
      ],
      "execution_count": 8,
      "outputs": [
        {
          "output_type": "stream",
          "text": [
            "[nltk_data] Downloading package vader_lexicon to /root/nltk_data...\n"
          ],
          "name": "stdout"
        },
        {
          "output_type": "stream",
          "text": [
            "/usr/local/lib/python3.6/dist-packages/statsmodels/tools/_testing.py:19: FutureWarning: pandas.util.testing is deprecated. Use the functions in the public API at pandas.testing instead.\n",
            "  import pandas.util.testing as tm\n",
            "/usr/local/lib/python3.6/dist-packages/nltk/twitter/__init__.py:20: UserWarning: The twython library has not been installed. Some functionality from the twitter package will not be available.\n",
            "  warnings.warn(\"The twython library has not been installed. \"\n"
          ],
          "name": "stderr"
        }
      ]
    },
    {
      "cell_type": "markdown",
      "metadata": {
        "id": "j1RyEAsCNOXa",
        "colab_type": "text"
      },
      "source": [
        "> printing out the polarity score for each headline. \n",
        "\n",
        "Quantify the sentiments with a positive or negative value is called polarity."
      ]
    },
    {
      "cell_type": "code",
      "metadata": {
        "id": "NVbI0TqHH0dl",
        "colab_type": "code",
        "outputId": "00d901e8-e668-49d7-f994-a4ee59027f24",
        "colab": {
          "base_uri": "https://localhost:8080/",
          "height": 901
        }
      },
      "source": [
        "sia = SIA()\n",
        "results = []\n",
        "for line in headlines:\n",
        "    pol_score = sia.polarity_scores(line)\n",
        "    pol_score['headline'] = line\n",
        "    results.append(pol_score)\n",
        "    \n",
        "pprint(results[:10], width= 100)"
      ],
      "execution_count": 9,
      "outputs": [
        {
          "output_type": "stream",
          "text": [
            "[{'compound': 0.0,\n",
            "  'headline': 'Bangladesh Suppliers Barely Afloat As Clothing Brands Find New Ways To Squeeze Them',\n",
            "  'neg': 0.0,\n",
            "  'neu': 1.0,\n",
            "  'pos': 0.0},\n",
            " {'compound': 0.4215,\n",
            "  'headline': 'Bangladesh quarantines hundreds of Rohingya rescued from sea',\n",
            "  'neg': 0.0,\n",
            "  'neu': 0.714,\n",
            "  'pos': 0.286},\n",
            " {'compound': 0.0,\n",
            "  'headline': 'Clay layers and distant pumping trigger arsenic contamination in Bangladesh '\n",
            "              'groundwater',\n",
            "  'neg': 0.0,\n",
            "  'neu': 1.0,\n",
            "  'pos': 0.0},\n",
            " {'compound': -0.2023,\n",
            "  'headline': 'Bangladesh cartoonist, writer charged for anti-government posts',\n",
            "  'neg': 0.231,\n",
            "  'neu': 0.769,\n",
            "  'pos': 0.0},\n",
            " {'compound': -0.4215,\n",
            "  'headline': 'Bangladesh Sends 28 Rohingya Refugees To Cyclone-Prone Island Over COVID-19 Fears',\n",
            "  'neg': 0.219,\n",
            "  'neu': 0.781,\n",
            "  'pos': 0.0},\n",
            " {'compound': -0.4404,\n",
            "  'headline': '“Extraction”, a thriller set in Dhaka, has angered Bangladeshis',\n",
            "  'neg': 0.308,\n",
            "  'neu': 0.561,\n",
            "  'pos': 0.131},\n",
            " {'compound': -0.3612,\n",
            "  'headline': \"NYC's Bangladeshi community struggles to cope with coronavirus\",\n",
            "  'neg': 0.263,\n",
            "  'neu': 0.737,\n",
            "  'pos': 0.0},\n",
            " {'compound': 0.0,\n",
            "  'headline': \"Bangladesh's Beximco to begin producing Covid-19 drug remdesivir\",\n",
            "  'neg': 0.0,\n",
            "  'neu': 1.0,\n",
            "  'pos': 0.0},\n",
            " {'compound': -0.2732,\n",
            "  'headline': \"Coronavirus: Two million Bangladesh jobs 'at risk' as clothes orders dry up\",\n",
            "  'neg': 0.16,\n",
            "  'neu': 0.84,\n",
            "  'pos': 0.0},\n",
            " {'compound': -0.5859,\n",
            "  'headline': 'Bangladeshi garment workers face ruin as global brands ditch clothing contracts '\n",
            "              'amid coronavirus pandemic',\n",
            "  'neg': 0.226,\n",
            "  'neu': 0.774,\n",
            "  'pos': 0.0}]\n"
          ],
          "name": "stdout"
        }
      ]
    },
    {
      "cell_type": "code",
      "metadata": {
        "id": "S3eDD6QEITAk",
        "colab_type": "code",
        "outputId": "b8f4e74a-691d-41fa-9a90-da9089579f66",
        "colab": {
          "base_uri": "https://localhost:8080/",
          "height": 204
        }
      },
      "source": [
        "sentiments = pd.DataFrame.from_records(results)\n",
        "sentiments.head()"
      ],
      "execution_count": 10,
      "outputs": [
        {
          "output_type": "execute_result",
          "data": {
            "text/html": [
              "<div>\n",
              "<style scoped>\n",
              "    .dataframe tbody tr th:only-of-type {\n",
              "        vertical-align: middle;\n",
              "    }\n",
              "\n",
              "    .dataframe tbody tr th {\n",
              "        vertical-align: top;\n",
              "    }\n",
              "\n",
              "    .dataframe thead th {\n",
              "        text-align: right;\n",
              "    }\n",
              "</style>\n",
              "<table border=\"1\" class=\"dataframe\">\n",
              "  <thead>\n",
              "    <tr style=\"text-align: right;\">\n",
              "      <th></th>\n",
              "      <th>neg</th>\n",
              "      <th>neu</th>\n",
              "      <th>pos</th>\n",
              "      <th>compound</th>\n",
              "      <th>headline</th>\n",
              "    </tr>\n",
              "  </thead>\n",
              "  <tbody>\n",
              "    <tr>\n",
              "      <th>0</th>\n",
              "      <td>0.000</td>\n",
              "      <td>1.000</td>\n",
              "      <td>0.000</td>\n",
              "      <td>0.0000</td>\n",
              "      <td>Bangladesh Suppliers Barely Afloat As Clothing...</td>\n",
              "    </tr>\n",
              "    <tr>\n",
              "      <th>1</th>\n",
              "      <td>0.000</td>\n",
              "      <td>0.714</td>\n",
              "      <td>0.286</td>\n",
              "      <td>0.4215</td>\n",
              "      <td>Bangladesh quarantines hundreds of Rohingya re...</td>\n",
              "    </tr>\n",
              "    <tr>\n",
              "      <th>2</th>\n",
              "      <td>0.000</td>\n",
              "      <td>1.000</td>\n",
              "      <td>0.000</td>\n",
              "      <td>0.0000</td>\n",
              "      <td>Clay layers and distant pumping trigger arseni...</td>\n",
              "    </tr>\n",
              "    <tr>\n",
              "      <th>3</th>\n",
              "      <td>0.231</td>\n",
              "      <td>0.769</td>\n",
              "      <td>0.000</td>\n",
              "      <td>-0.2023</td>\n",
              "      <td>Bangladesh cartoonist, writer charged for anti...</td>\n",
              "    </tr>\n",
              "    <tr>\n",
              "      <th>4</th>\n",
              "      <td>0.219</td>\n",
              "      <td>0.781</td>\n",
              "      <td>0.000</td>\n",
              "      <td>-0.4215</td>\n",
              "      <td>Bangladesh Sends 28 Rohingya Refugees To Cyclo...</td>\n",
              "    </tr>\n",
              "  </tbody>\n",
              "</table>\n",
              "</div>"
            ],
            "text/plain": [
              "     neg    neu  ...  compound                                           headline\n",
              "0  0.000  1.000  ...    0.0000  Bangladesh Suppliers Barely Afloat As Clothing...\n",
              "1  0.000  0.714  ...    0.4215  Bangladesh quarantines hundreds of Rohingya re...\n",
              "2  0.000  1.000  ...    0.0000  Clay layers and distant pumping trigger arseni...\n",
              "3  0.231  0.769  ...   -0.2023  Bangladesh cartoonist, writer charged for anti...\n",
              "4  0.219  0.781  ...   -0.4215  Bangladesh Sends 28 Rohingya Refugees To Cyclo...\n",
              "\n",
              "[5 rows x 5 columns]"
            ]
          },
          "metadata": {
            "tags": []
          },
          "execution_count": 10
        }
      ]
    },
    {
      "cell_type": "markdown",
      "metadata": {
        "id": "UNJDPFN4N6KB",
        "colab_type": "text"
      },
      "source": [
        "> Labeling the polarity score in a range between (-1 to 1) for normalization"
      ]
    },
    {
      "cell_type": "code",
      "metadata": {
        "id": "az4g8FyLL8i3",
        "colab_type": "code",
        "outputId": "9bcb085e-8823-41d8-a65d-a7e3baa147d6",
        "colab": {
          "base_uri": "https://localhost:8080/",
          "height": 204
        }
      },
      "source": [
        "sentiments['label'] = 0\n",
        "sentiments.loc[sentiments['compound'] > 0.1, 'label'] = 1\n",
        "sentiments.loc[sentiments['compound'] > -0.2, 'label'] = -1\n",
        "sentiments.head()"
      ],
      "execution_count": 11,
      "outputs": [
        {
          "output_type": "execute_result",
          "data": {
            "text/html": [
              "<div>\n",
              "<style scoped>\n",
              "    .dataframe tbody tr th:only-of-type {\n",
              "        vertical-align: middle;\n",
              "    }\n",
              "\n",
              "    .dataframe tbody tr th {\n",
              "        vertical-align: top;\n",
              "    }\n",
              "\n",
              "    .dataframe thead th {\n",
              "        text-align: right;\n",
              "    }\n",
              "</style>\n",
              "<table border=\"1\" class=\"dataframe\">\n",
              "  <thead>\n",
              "    <tr style=\"text-align: right;\">\n",
              "      <th></th>\n",
              "      <th>neg</th>\n",
              "      <th>neu</th>\n",
              "      <th>pos</th>\n",
              "      <th>compound</th>\n",
              "      <th>headline</th>\n",
              "      <th>label</th>\n",
              "    </tr>\n",
              "  </thead>\n",
              "  <tbody>\n",
              "    <tr>\n",
              "      <th>0</th>\n",
              "      <td>0.000</td>\n",
              "      <td>1.000</td>\n",
              "      <td>0.000</td>\n",
              "      <td>0.0000</td>\n",
              "      <td>Bangladesh Suppliers Barely Afloat As Clothing...</td>\n",
              "      <td>-1</td>\n",
              "    </tr>\n",
              "    <tr>\n",
              "      <th>1</th>\n",
              "      <td>0.000</td>\n",
              "      <td>0.714</td>\n",
              "      <td>0.286</td>\n",
              "      <td>0.4215</td>\n",
              "      <td>Bangladesh quarantines hundreds of Rohingya re...</td>\n",
              "      <td>-1</td>\n",
              "    </tr>\n",
              "    <tr>\n",
              "      <th>2</th>\n",
              "      <td>0.000</td>\n",
              "      <td>1.000</td>\n",
              "      <td>0.000</td>\n",
              "      <td>0.0000</td>\n",
              "      <td>Clay layers and distant pumping trigger arseni...</td>\n",
              "      <td>-1</td>\n",
              "    </tr>\n",
              "    <tr>\n",
              "      <th>3</th>\n",
              "      <td>0.231</td>\n",
              "      <td>0.769</td>\n",
              "      <td>0.000</td>\n",
              "      <td>-0.2023</td>\n",
              "      <td>Bangladesh cartoonist, writer charged for anti...</td>\n",
              "      <td>0</td>\n",
              "    </tr>\n",
              "    <tr>\n",
              "      <th>4</th>\n",
              "      <td>0.219</td>\n",
              "      <td>0.781</td>\n",
              "      <td>0.000</td>\n",
              "      <td>-0.4215</td>\n",
              "      <td>Bangladesh Sends 28 Rohingya Refugees To Cyclo...</td>\n",
              "      <td>0</td>\n",
              "    </tr>\n",
              "  </tbody>\n",
              "</table>\n",
              "</div>"
            ],
            "text/plain": [
              "     neg    neu  ...                                           headline  label\n",
              "0  0.000  1.000  ...  Bangladesh Suppliers Barely Afloat As Clothing...     -1\n",
              "1  0.000  0.714  ...  Bangladesh quarantines hundreds of Rohingya re...     -1\n",
              "2  0.000  1.000  ...  Clay layers and distant pumping trigger arseni...     -1\n",
              "3  0.231  0.769  ...  Bangladesh cartoonist, writer charged for anti...      0\n",
              "4  0.219  0.781  ...  Bangladesh Sends 28 Rohingya Refugees To Cyclo...      0\n",
              "\n",
              "[5 rows x 6 columns]"
            ]
          },
          "metadata": {
            "tags": []
          },
          "execution_count": 11
        }
      ]
    },
    {
      "cell_type": "code",
      "metadata": {
        "id": "gZ5tPt7uMD4A",
        "colab_type": "code",
        "outputId": "f79dbace-19ca-4679-f55e-b773d7430374",
        "colab": {
          "base_uri": "https://localhost:8080/",
          "height": 68
        }
      },
      "source": [
        "sentiments.label.value_counts()"
      ],
      "execution_count": 12,
      "outputs": [
        {
          "output_type": "execute_result",
          "data": {
            "text/plain": [
              "-1    22\n",
              " 0    20\n",
              "Name: label, dtype: int64"
            ]
          },
          "metadata": {
            "tags": []
          },
          "execution_count": 12
        }
      ]
    },
    {
      "cell_type": "markdown",
      "metadata": {
        "id": "-L5lxQrcOPIg",
        "colab_type": "text"
      },
      "source": [
        "> Showing the negative headlines\n",
        "\n",
        "As the majority of headlines showed negative so wanted to check the headlines manually"
      ]
    },
    {
      "cell_type": "code",
      "metadata": {
        "id": "1WaTc8iBMLuo",
        "colab_type": "code",
        "outputId": "5cfd32d2-648b-4569-8975-9ac8dc3a883f",
        "colab": {
          "base_uri": "https://localhost:8080/",
          "height": 425
        }
      },
      "source": [
        "print(\"Negative headlines:\\n\")\n",
        "pprint(list(sentiments[sentiments['label'] == -1].headline)[:100], width = 200)"
      ],
      "execution_count": 13,
      "outputs": [
        {
          "output_type": "stream",
          "text": [
            "Negative headlines:\n",
            "\n",
            "['Bangladesh Suppliers Barely Afloat As Clothing Brands Find New Ways To Squeeze Them',\n",
            " 'Bangladesh quarantines hundreds of Rohingya rescued from sea',\n",
            " 'Clay layers and distant pumping trigger arsenic contamination in Bangladesh groundwater',\n",
            " \"Bangladesh's Beximco to begin producing Covid-19 drug remdesivir\",\n",
            " \"Rohingya refugees sent to 'flood-prone' island off Bangladesh\",\n",
            " 'Why These Bangladeshi Women Artists Are Using Creativity To Combat Covid-19',\n",
            " 'Bangladesh overfishing: Almost all species pushed to brink',\n",
            " 'Dozens of stranded Rohingya refugees land in Bangladesh',\n",
            " 'Bangladesh begins production of experimental COVID-19 drug remdesivir',\n",
            " 'Nearly 400 Rohingya Rescued From Boat Near Bangladesh After 2 Months Adrift',\n",
            " 'Diaspora offers helping hand as Bangladesh reels from coronavirus',\n",
            " 'Music of Bangladesh: A playlist of rock, fusion and hip-hop from the neighbouring country',\n",
            " 'Life or livelihood: Bangladesh shop owners face difficult decisions before Eid reopening',\n",
            " 'Mobile Financial Services soaring in a pandemic-stricken Bangladesh',\n",
            " 'Bangladesh urged to open ports to allow in Rohingya refugee boats',\n",
            " 'Cyclone Bulbul makes landfall amid India and Bangladesh evacuations',\n",
            " 'British upscale brand Debenhams leaves its Bangladesh apparel suppliers high and dry',\n",
            " 'Bangladesh Reports More Than 13000 Dengue Cases In July',\n",
            " \"Assignment, Hanging by a thread: Bangladesh's garment workers\",\n",
            " 'The country disappearing under rising tides',\n",
            " 'Bangladesh scientists create $3 kit. Can it help detect COVID-19?',\n",
            " 'Coronavirus: In dense Bangladesh, social distancing a tough task']\n"
          ],
          "name": "stdout"
        }
      ]
    },
    {
      "cell_type": "markdown",
      "metadata": {
        "id": "Fd4Mbr1ZOlcT",
        "colab_type": "text"
      },
      "source": [
        "persenge value of polarity ranges"
      ]
    },
    {
      "cell_type": "code",
      "metadata": {
        "id": "qOANWTRCMhBq",
        "colab_type": "code",
        "outputId": "da3eec45-7136-491b-fa5c-763d590f0eb1",
        "colab": {
          "base_uri": "https://localhost:8080/",
          "height": 68
        }
      },
      "source": [
        "sentiments.label.value_counts(normalize=True) * 100"
      ],
      "execution_count": 14,
      "outputs": [
        {
          "output_type": "execute_result",
          "data": {
            "text/plain": [
              "-1    52.380952\n",
              " 0    47.619048\n",
              "Name: label, dtype: float64"
            ]
          },
          "metadata": {
            "tags": []
          },
          "execution_count": 14
        }
      ]
    },
    {
      "cell_type": "markdown",
      "metadata": {
        "id": "H6qihUbhM2DO",
        "colab_type": "text"
      },
      "source": [
        "> Determing Word frequency Distribution and Tokenization\n",
        "\n",
        "\n",
        "\n",
        "*   Word frequency distribution determins how frequently a word used in the this data set. By this we can find out the most populer word in the headlines.\n",
        "*   On the other hand Tokenizer Tokenize the words (example is given below). This breaks out the sentence into word level and tokenize each words. \n",
        "\n",
        "\n",
        "\n"
      ]
    },
    {
      "cell_type": "code",
      "metadata": {
        "id": "JDyxlPWNMnAh",
        "colab_type": "code",
        "outputId": "81d2880e-7dd0-429f-becf-af7aa95c5cc4",
        "colab": {
          "base_uri": "https://localhost:8080/",
          "height": 68
        }
      },
      "source": [
        "from nltk.tokenize import word_tokenize, RegexpTokenizer\n",
        "nltk.download('punkt')\n",
        "example = \"Clay layers and distant pumping trigger arsenic contamination in Bangladesh groundwater\"\n",
        "print(word_tokenize(example, language = 'english'))"
      ],
      "execution_count": 15,
      "outputs": [
        {
          "output_type": "stream",
          "text": [
            "[nltk_data] Downloading package punkt to /root/nltk_data...\n",
            "[nltk_data]   Unzipping tokenizers/punkt.zip.\n",
            "['Clay', 'layers', 'and', 'distant', 'pumping', 'trigger', 'arsenic', 'contamination', 'in', 'Bangladesh', 'groundwater']\n"
          ],
          "name": "stdout"
        }
      ]
    },
    {
      "cell_type": "markdown",
      "metadata": {
        "id": "w9w4m5Q8TAHr",
        "colab_type": "text"
      },
      "source": [
        ">Tokenaze the regular expressions "
      ]
    },
    {
      "cell_type": "code",
      "metadata": {
        "id": "Biyg6ULVN8tB",
        "colab_type": "code",
        "outputId": "6baf2439-7c53-4f1d-baf1-a96c8ba880f9",
        "colab": {
          "base_uri": "https://localhost:8080/",
          "height": 34
        }
      },
      "source": [
        "tokenizer = RegexpTokenizer(r'\\w+')\n",
        "print(tokenizer.tokenize(example))"
      ],
      "execution_count": 16,
      "outputs": [
        {
          "output_type": "stream",
          "text": [
            "['Clay', 'layers', 'and', 'distant', 'pumping', 'trigger', 'arsenic', 'contamination', 'in', 'Bangladesh', 'groundwater']\n"
          ],
          "name": "stdout"
        }
      ]
    },
    {
      "cell_type": "markdown",
      "metadata": {
        "id": "Jkps3f0xNfEB",
        "colab_type": "text"
      },
      "source": [
        "`Stop Words:`  - a stop word is a commonly used word (such as “the”, “a”, “an”, “in”) that a search engine has been programmed to ignore, both when indexing entries for searching and when retrieving them as the result of a search query."
      ]
    },
    {
      "cell_type": "code",
      "metadata": {
        "id": "euXNQw0FNee2",
        "colab_type": "code",
        "outputId": "22dcd212-5ec0-47db-f51c-97021857a372",
        "colab": {
          "base_uri": "https://localhost:8080/",
          "height": 68
        }
      },
      "source": [
        "from nltk.corpus import stopwords\n",
        "nltk.download('stopwords')\n",
        "stop_words = stopwords.words('english')\n",
        "print(stop_words[:5])"
      ],
      "execution_count": 17,
      "outputs": [
        {
          "output_type": "stream",
          "text": [
            "[nltk_data] Downloading package stopwords to /root/nltk_data...\n",
            "[nltk_data]   Unzipping corpora/stopwords.zip.\n",
            "['i', 'me', 'my', 'myself', 'we']\n"
          ],
          "name": "stdout"
        }
      ]
    },
    {
      "cell_type": "markdown",
      "metadata": {
        "id": "Nw4Pl_eGTWj6",
        "colab_type": "text"
      },
      "source": [
        "Process the tokenize & ranking the most common used words"
      ]
    },
    {
      "cell_type": "code",
      "metadata": {
        "id": "7j61LwW_NqBe",
        "colab_type": "code",
        "outputId": "efe6d7e0-9df7-483f-9a7a-7fedeb979077",
        "colab": {
          "base_uri": "https://localhost:8080/",
          "height": 204
        }
      },
      "source": [
        "def process_text(headlines):\n",
        "    tokens = []\n",
        "    for line in headlines:\n",
        "        line = line.lower()\n",
        "        toks = tokenizer.tokenize(line)\n",
        "        toks = [t for t in toks if t not in stop_words]\n",
        "        tokens.extend(toks)\n",
        "        \n",
        "    return tokens\n",
        "pos_lines = list(sentiments[sentiments.label == -1].headline)\n",
        "pos_tokens = process_text(pos_lines)\n",
        "pos_freq = nltk.FreqDist(pos_tokens)\n",
        "\n",
        "common_word = pd.DataFrame(pos_freq.most_common(5))\n",
        "common_word"
      ],
      "execution_count": 18,
      "outputs": [
        {
          "output_type": "execute_result",
          "data": {
            "text/html": [
              "<div>\n",
              "<style scoped>\n",
              "    .dataframe tbody tr th:only-of-type {\n",
              "        vertical-align: middle;\n",
              "    }\n",
              "\n",
              "    .dataframe tbody tr th {\n",
              "        vertical-align: top;\n",
              "    }\n",
              "\n",
              "    .dataframe thead th {\n",
              "        text-align: right;\n",
              "    }\n",
              "</style>\n",
              "<table border=\"1\" class=\"dataframe\">\n",
              "  <thead>\n",
              "    <tr style=\"text-align: right;\">\n",
              "      <th></th>\n",
              "      <th>0</th>\n",
              "      <th>1</th>\n",
              "    </tr>\n",
              "  </thead>\n",
              "  <tbody>\n",
              "    <tr>\n",
              "      <th>0</th>\n",
              "      <td>bangladesh</td>\n",
              "      <td>20</td>\n",
              "    </tr>\n",
              "    <tr>\n",
              "      <th>1</th>\n",
              "      <td>rohingya</td>\n",
              "      <td>5</td>\n",
              "    </tr>\n",
              "    <tr>\n",
              "      <th>2</th>\n",
              "      <td>covid</td>\n",
              "      <td>4</td>\n",
              "    </tr>\n",
              "    <tr>\n",
              "      <th>3</th>\n",
              "      <td>19</td>\n",
              "      <td>4</td>\n",
              "    </tr>\n",
              "    <tr>\n",
              "      <th>4</th>\n",
              "      <td>suppliers</td>\n",
              "      <td>2</td>\n",
              "    </tr>\n",
              "  </tbody>\n",
              "</table>\n",
              "</div>"
            ],
            "text/plain": [
              "            0   1\n",
              "0  bangladesh  20\n",
              "1    rohingya   5\n",
              "2       covid   4\n",
              "3          19   4\n",
              "4   suppliers   2"
            ]
          },
          "metadata": {
            "tags": []
          },
          "execution_count": 18
        }
      ]
    },
    {
      "cell_type": "markdown",
      "metadata": {
        "id": "Rm1kUzX3Tmlp",
        "colab_type": "text"
      },
      "source": [
        "> Plotting the Word Frequence Distribution (Negative)"
      ]
    },
    {
      "cell_type": "code",
      "metadata": {
        "id": "K-cAMvoeOFBb",
        "colab_type": "code",
        "outputId": "c2203ca0-8d80-4046-9047-a9aa2544a76a",
        "colab": {
          "base_uri": "https://localhost:8080/",
          "height": 375
        }
      },
      "source": [
        "y_val = [x[1] for x in pos_freq.most_common()]\n",
        "fig = plt.figure(figsize = (10,5))\n",
        "plt.plot(y_val)\n",
        "\n",
        "plt.xlabel(\"Words\")\n",
        "plt.ylabel(\"Frequency\")\n",
        "plt.title(\"Word Frequence Distribution (Negative)\")\n",
        "plt.show()"
      ],
      "execution_count": 19,
      "outputs": [
        {
          "output_type": "display_data",
          "data": {
            "image/png": "[encoded data removed]",
            "text/plain": [
              "<Figure size 720x360 with 1 Axes>"
            ]
          },
          "metadata": {
            "tags": []
          }
        }
      ]
    },
    {
      "cell_type": "markdown",
      "metadata": {
        "id": "xyuZPnymTsQx",
        "colab_type": "text"
      },
      "source": [
        "After exploring the dataset we are now good to go for our next step. in this step I will try to generate meaningfulll sentence segments with the help of metchine learning\n",
        "\n",
        "> Importing Keras\n",
        "\n",
        "Keras is an open-source neural-network library written in Python. It is capable of running on top of TensorFlow, Microsoft Cognitive Toolkit, R, Theano, or PlaidML.Designed to enable fast experimentation with deep neural networks, it focuses on being user-friendly, modular, and extensible. It was developed as part of the research effort of project ONEIROS (Open-ended Neuro-Electronic Intelligent Robot Operating System), and its primary author and maintainer is François Chollet, a Google engineer. Chollet also is the author of the XCeption deep neural network model.click here to read [more](https://en.wikipedia.org/wiki/Keras)."
      ]
    },
    {
      "cell_type": "code",
      "metadata": {
        "id": "KO_o1xXk6UxQ",
        "colab_type": "code",
        "colab": {
          "base_uri": "https://localhost:8080/",
          "height": 34
        },
        "outputId": "ec742d56-bb9e-405b-bee6-f63f08dce4aa"
      },
      "source": [
        "import numpy\n",
        "import sys\n",
        "from keras.models import Sequential\n",
        "from keras.layers import Dense, Dropout, LSTM\n",
        "from keras.utils import np_utils\n",
        "from keras.callbacks import ModelCheckpoint"
      ],
      "execution_count": 20,
      "outputs": [
        {
          "output_type": "stream",
          "text": [
            "Using TensorFlow backend.\n"
          ],
          "name": "stderr"
        }
      ]
    },
    {
      "cell_type": "markdown",
      "metadata": {
        "id": "QOLFaTuy_keO",
        "colab_type": "text"
      },
      "source": [
        "> Loading Headlines as a Test data for ml model"
      ]
    },
    {
      "cell_type": "code",
      "metadata": {
        "id": "QVKxGRNj_QdR",
        "colab_type": "code",
        "colab": {
          "base_uri": "https://localhost:8080/",
          "height": 54
        },
        "outputId": "4c3b7eb0-aad7-4446-8221-8c13a305b5ec"
      },
      "source": [
        "test_data = str(sentiments['headline'])\n",
        "test_data"
      ],
      "execution_count": 25,
      "outputs": [
        {
          "output_type": "execute_result",
          "data": {
            "text/plain": [
              "\"0     Bangladesh Suppliers Barely Afloat As Clothing...\\n1     Bangladesh quarantines hundreds of Rohingya re...\\n2     Clay layers and distant pumping trigger arseni...\\n3     Bangladesh cartoonist, writer charged for anti...\\n4     Bangladesh Sends 28 Rohingya Refugees To Cyclo...\\n5     “Extraction”, a thriller set in Dhaka, has ang...\\n6     NYC's Bangladeshi community struggles to cope ...\\n7     Bangladesh's Beximco to begin producing Covid-...\\n8     Coronavirus: Two million Bangladesh jobs 'at r...\\n9     Bangladeshi garment workers face ruin as globa...\\n10    Rohingya refugees sent to 'flood-prone' island...\\n11    Why These Bangladeshi Women Artists Are Using ...\\n12    Bangladeshi journalist is jailed after mysteri...\\n13    100,000 gather for funeral in Bangladesh, defy...\\n14    Bangladesh overfishing: Almost all species pus...\\n15    Dozens of stranded Rohingya refugees land in B...\\n16    Bangladesh sends food aid to brothels as women...\\n17    Sheikh Mujibur Rahman: Army officer hanged for...\\n18    Bangladesh begins production of experimental C...\\n19    Primark and Matalan among retailers allegedly ...\\n20    Raffael Ahsan's Extraction story: The lone Ban...\\n21    Nearly 400 Rohingya Rescued From Boat Near Ban...\\n22    Diaspora offers helping hand as Bangladesh ree...\\n23    Coronavirus: Bangladesh mass prayer event prom...\\n24    Music of Bangladesh: A playlist of rock, fusio...\\n25    Life or livelihood: Bangladesh shop owners fac...\\n26    Mobile Financial Services soaring in a pandemi...\\n27    Bangladesh Fire: Thousands Left Homeless After...\\n28    Bangladesh urged to open ports to allow in Roh...\\n29    Cyclone Bulbul makes landfall amid India and B...\\n30    British upscale brand Debenhams leaves its Ban...\\n31    Hundreds of doctors in Bangladesh infected wit...\\n32    Bangladesh Reports More Than 13000 Dengue Case...\\n33    Assignment, Hanging by a thread: Bangladesh's ...\\n34    Hundreds of Britons stuck in Bangladesh to be ...\\n35          The country disappearing under rising tides\\n36    Coronavirus: Bangladesh eases discharge guidel...\\n37    Bangladesh shutdown: Rickshaw pullers struggle...\\n38    Bangladesh scientists create $3 kit. Can it he...\\n39    Bangladesh: Cox's Bazar under lockdown over co...\\n40    Coronavirus: In dense Bangladesh, social dista...\\n41    Bangladesh: Sex workers appeal for funds amid ...\\nName: headline, dtype: object\""
            ]
          },
          "metadata": {
            "tags": []
          },
          "execution_count": 25
        }
      ]
    },
    {
      "cell_type": "markdown",
      "metadata": {
        "id": "agDCRthAABuU",
        "colab_type": "text"
      },
      "source": [
        "> Initiate tokenizer for test data \n"
      ]
    },
    {
      "cell_type": "code",
      "metadata": {
        "id": "sc9YehMP_z0D",
        "colab_type": "code",
        "colab": {}
      },
      "source": [
        "def tokenize_words(input):\n",
        "    # lowercase everything to standardize it\n",
        "    input = input.lower()\n",
        "\n",
        "    # instantiate the tokenizer\n",
        "    tokenizer = RegexpTokenizer(r'\\w+')\n",
        "    tokens = tokenizer.tokenize(input)\n",
        "\n",
        "    # if the created token isn't in the stop words, make it part of \"filtered\"\n",
        "    filtered = filter(lambda token: token not in stopwords.words('english'), tokens)\n",
        "    return \" \".join(filtered)"
      ],
      "execution_count": 0,
      "outputs": []
    },
    {
      "cell_type": "code",
      "metadata": {
        "id": "nxguwdFPAFF7",
        "colab_type": "code",
        "outputId": "0ae400d8-e545-4bc4-8acf-c7a69792fef9",
        "colab": {
          "base_uri": "https://localhost:8080/",
          "height": 54
        }
      },
      "source": [
        "# preprocess the input data, make tokens\n",
        "processed_inputs = tokenize_words(test_data)\n",
        "processed_inputs"
      ],
      "execution_count": 27,
      "outputs": [
        {
          "output_type": "execute_result",
          "data": {
            "text/plain": [
              "'0 Bangladesh Suppliers Barely Afloat As Clothing 1 Bangladesh quarantines hundreds Rohingya 2 Clay layers distant pumping trigger arseni 3 Bangladesh cartoonist writer charged anti 4 Bangladesh Sends 28 Rohingya Refugees To Cyclo 5 Extraction thriller set Dhaka ang 6 NYC Bangladeshi community struggles cope 7 Bangladesh Beximco begin producing Covid 8 Coronavirus Two million Bangladesh jobs r 9 Bangladeshi garment workers face ruin globa 10 Rohingya refugees sent flood prone island 11 Why These Bangladeshi Women Artists Are Using 12 Bangladeshi journalist jailed mysteri 13 100 000 gather funeral Bangladesh defy 14 Bangladesh overfishing Almost species pus 15 Dozens stranded Rohingya refugees land B 16 Bangladesh sends food aid brothels women 17 Sheikh Mujibur Rahman Army officer hanged 18 Bangladesh begins production experimental C 19 Primark Matalan among retailers allegedly 20 Raffael Ahsan Extraction story The lone Ban 21 Nearly 400 Rohingya Rescued From Boat Near Ban 22 Diaspora offers helping hand Bangladesh ree 23 Coronavirus Bangladesh mass prayer event prom 24 Music Bangladesh A playlist rock fusio 25 Life livelihood Bangladesh shop owners fac 26 Mobile Financial Services soaring pandemi 27 Bangladesh Fire Thousands Left Homeless After 28 Bangladesh urged open ports allow Roh 29 Cyclone Bulbul makes landfall amid India B 30 British upscale brand Debenhams leaves Ban 31 Hundreds doctors Bangladesh infected wit 32 Bangladesh Reports More Than 13000 Dengue Case 33 Assignment Hanging thread Bangladesh 34 Hundreds Britons stuck Bangladesh 35 The country disappearing rising tides 36 Coronavirus Bangladesh eases discharge guidel 37 Bangladesh shutdown Rickshaw pullers struggle 38 Bangladesh scientists create 3 kit Can 39 Bangladesh Cox Bazar lockdown co 40 Coronavirus In dense Bangladesh social dista 41 Bangladesh Sex workers appeal funds amid Name headline dtype object'"
            ]
          },
          "metadata": {
            "tags": []
          },
          "execution_count": 27
        }
      ]
    },
    {
      "cell_type": "markdown",
      "metadata": {
        "id": "4h1_4-JYVB3M",
        "colab_type": "text"
      },
      "source": [
        "After tokenize the headlines in to cheracter lavel we can see that which cheracter used how many time in those headlines"
      ]
    },
    {
      "cell_type": "code",
      "metadata": {
        "id": "mOE9kJGn09Ny",
        "colab_type": "code",
        "colab": {
          "base_uri": "https://localhost:8080/",
          "height": 952
        },
        "outputId": "8ad1a73a-0b79-492c-f917-12234570ca7e"
      },
      "source": [
        "chars = sorted(list(set(processed_inputs)))\n",
        "# appending on a dictionary\n",
        "char_to_num = dict((c, i) for i, c in enumerate(chars))\n",
        "char_to_num"
      ],
      "execution_count": 28,
      "outputs": [
        {
          "output_type": "execute_result",
          "data": {
            "text/plain": [
              "{' ': 0,\n",
              " '0': 1,\n",
              " '1': 2,\n",
              " '2': 3,\n",
              " '3': 4,\n",
              " '4': 5,\n",
              " '5': 6,\n",
              " '6': 7,\n",
              " '7': 8,\n",
              " '8': 9,\n",
              " '9': 10,\n",
              " 'A': 11,\n",
              " 'B': 12,\n",
              " 'C': 13,\n",
              " 'D': 14,\n",
              " 'E': 15,\n",
              " 'F': 16,\n",
              " 'H': 17,\n",
              " 'I': 18,\n",
              " 'L': 19,\n",
              " 'M': 20,\n",
              " 'N': 21,\n",
              " 'P': 22,\n",
              " 'R': 23,\n",
              " 'S': 24,\n",
              " 'T': 25,\n",
              " 'U': 26,\n",
              " 'W': 27,\n",
              " 'Y': 28,\n",
              " 'a': 29,\n",
              " 'b': 30,\n",
              " 'c': 31,\n",
              " 'd': 32,\n",
              " 'e': 33,\n",
              " 'f': 34,\n",
              " 'g': 35,\n",
              " 'h': 36,\n",
              " 'i': 37,\n",
              " 'j': 38,\n",
              " 'k': 39,\n",
              " 'l': 40,\n",
              " 'm': 41,\n",
              " 'n': 42,\n",
              " 'o': 43,\n",
              " 'p': 44,\n",
              " 'q': 45,\n",
              " 'r': 46,\n",
              " 's': 47,\n",
              " 't': 48,\n",
              " 'u': 49,\n",
              " 'v': 50,\n",
              " 'w': 51,\n",
              " 'x': 52,\n",
              " 'y': 53,\n",
              " 'z': 54}"
            ]
          },
          "metadata": {
            "tags": []
          },
          "execution_count": 28
        }
      ]
    },
    {
      "cell_type": "code",
      "metadata": {
        "id": "mK1wdYTj1GZU",
        "colab_type": "code",
        "colab": {
          "base_uri": "https://localhost:8080/",
          "height": 51
        },
        "outputId": "f21f12ac-0cf4-466c-9c6b-215525b3f3ec"
      },
      "source": [
        "input_len = len(processed_inputs)\n",
        "vocab_len = len(chars)\n",
        "print (\"Total number of characters:\", input_len)\n",
        "print (\"Total vocab:\", vocab_len)"
      ],
      "execution_count": 29,
      "outputs": [
        {
          "output_type": "stream",
          "text": [
            "Total number of characters: 1903\n",
            "Total vocab: 55\n"
          ],
          "name": "stdout"
        }
      ]
    },
    {
      "cell_type": "markdown",
      "metadata": {
        "id": "F-zuA0S-1Pb3",
        "colab_type": "text"
      },
      "source": [
        "Now that we've transformed the data into the form it needs to be in, we can begin making a dataset out of it, which we'll feed into our network. We need to define how long we want an individual sequence (one complete mapping of inputs characters as integers) to be. We'll set a length of 100 for now, and declare empty lists to store our input and output data:"
      ]
    },
    {
      "cell_type": "code",
      "metadata": {
        "id": "lu_uRvIC1KAp",
        "colab_type": "code",
        "colab": {}
      },
      "source": [
        "seq_length = 100\n",
        "x_data = []\n",
        "y_data = []"
      ],
      "execution_count": 0,
      "outputs": []
    },
    {
      "cell_type": "markdown",
      "metadata": {
        "id": "IvAqnUt91bpz",
        "colab_type": "text"
      },
      "source": [
        "Now we need to go through the entire list of inputs and convert the characters to numbers. We'll do this with a for loop. This will create a bunch of sequences where each sequence starts with the next character in the input data, beginning with the first character:"
      ]
    },
    {
      "cell_type": "code",
      "metadata": {
        "id": "CJ-xjQgQ1cUF",
        "colab_type": "code",
        "colab": {}
      },
      "source": [
        "for i in range(0, input_len - seq_length, 1):\n",
        "    # Define input and output sequences\n",
        "    # Input is the current character plus desired sequence length\n",
        "    in_seq = processed_inputs[i:i + seq_length]\n",
        "\n",
        "    # Out sequence is the initial character plus total sequence length\n",
        "    out_seq = processed_inputs[i + seq_length]\n",
        "\n",
        "    # We now convert list of characters to integers based on\n",
        "    # previously and add the values to our lists\n",
        "    x_data.append([char_to_num[char] for char in in_seq])\n",
        "    y_data.append(char_to_num[out_seq])"
      ],
      "execution_count": 0,
      "outputs": []
    },
    {
      "cell_type": "code",
      "metadata": {
        "id": "bB0tTEyD2gnF",
        "colab_type": "code",
        "colab": {
          "base_uri": "https://localhost:8080/",
          "height": 34
        },
        "outputId": "6eae4946-aefd-4c92-e375-d824658f2c1c"
      },
      "source": [
        "n_patterns = len(x_data)\n",
        "print (\"Total Patterns:\", n_patterns)"
      ],
      "execution_count": 37,
      "outputs": [
        {
          "output_type": "stream",
          "text": [
            "Total Patterns: 5409\n"
          ],
          "name": "stdout"
        }
      ]
    },
    {
      "cell_type": "markdown",
      "metadata": {
        "id": "R7R2tHOA5J6G",
        "colab_type": "text"
      },
      "source": [
        "Now we'll go ahead and convert our input sequences into a processed numpy array that our network can use. We'll also need to convert the numpy array values into floats so that the sigmoid activation function our network uses can interpret them and output probabilities from 0 to 1"
      ]
    },
    {
      "cell_type": "code",
      "metadata": {
        "id": "zQ-e8IIf5Kde",
        "colab_type": "code",
        "colab": {}
      },
      "source": [
        "X = numpy.reshape(x_data, (n_patterns, seq_length, 1))\n",
        "X = X/float(vocab_len)\n",
        "# One Hot encoding\n",
        "y = np_utils.to_categorical(y_data)"
      ],
      "execution_count": 0,
      "outputs": []
    },
    {
      "cell_type": "markdown",
      "metadata": {
        "id": "LX6KHOg6VfJb",
        "colab_type": "text"
      },
      "source": [
        "> Initalte keras model\n",
        "\n",
        "For our job we used Long short-term memory (LSTM) . LSTM networks are a type of  [recurrent neural network (RNN)](https://en.wikipedia.org/wiki/Recurrent_neural_network) that uses special units in addition to standard units. RNN units include a 'memory cell' that can maintain information in memory for long periods of time. A set of gates is used to control when information enters the memory, when it's output, and when it's forgotten. This architecture lets them learn longer-term dependencies. GRUs are similar to LSTMs, but use a simplified structure. They also use a set of gates to control the flow of information, but they don't use separate memory cells, and they use fewer gates. You can also learn more from [here](https://towardsdatascience.com/understanding-lstm-and-its-quick-implementation-in-keras-for-sentiment-analysis-af410fd85b47) ."
      ]
    },
    {
      "cell_type": "code",
      "metadata": {
        "id": "sMGogw7t5b7g",
        "colab_type": "code",
        "colab": {}
      },
      "source": [
        "model = Sequential()\n",
        "model.add(LSTM(256, input_shape=(X.shape[1], X.shape[2]), return_sequences=True))\n",
        "model.add(Dropout(0.2))\n",
        "model.add(LSTM(256, return_sequences=True))\n",
        "model.add(Dropout(0.2))\n",
        "model.add(LSTM(128))\n",
        "model.add(Dropout(0.2))\n",
        "model.add(Dense(y.shape[1], activation='softmax'))"
      ],
      "execution_count": 0,
      "outputs": []
    },
    {
      "cell_type": "markdown",
      "metadata": {
        "id": "-ad_AHRK5jg5",
        "colab_type": "text"
      },
      "source": [
        "We compile the model now, and it is ready for training"
      ]
    },
    {
      "cell_type": "code",
      "metadata": {
        "id": "scegOJcn5gJd",
        "colab_type": "code",
        "colab": {}
      },
      "source": [
        "model.compile(loss='categorical_crossentropy', optimizer='adam')"
      ],
      "execution_count": 0,
      "outputs": []
    },
    {
      "cell_type": "markdown",
      "metadata": {
        "id": "s8B57P9h5rtT",
        "colab_type": "text"
      },
      "source": [
        "Setting up a ceckpoint"
      ]
    },
    {
      "cell_type": "code",
      "metadata": {
        "id": "gNpcfZzm5vD3",
        "colab_type": "code",
        "colab": {}
      },
      "source": [
        "filepath = \"model_weights_saved.hdf5\"\n",
        "checkpoint = ModelCheckpoint(filepath, monitor='loss', verbose=1, save_best_only=True, mode='min')\n",
        "desired_callbacks = [checkpoint]"
      ],
      "execution_count": 0,
      "outputs": []
    },
    {
      "cell_type": "markdown",
      "metadata": {
        "id": "-6xoBFIU5zoo",
        "colab_type": "text"
      },
      "source": [
        "> Fit the model and let it train.\n",
        "\n",
        "\n",
        "\n",
        "*   `epochs=20` -  Epochs means One Epoch is when an entire dataset is passed forward and backward through the neural network only once. For this situation the entire dataset will forword and backword 20 times through the nural network.\n",
        "*   `batch_size=100` - Batch size is the total number of training examples present in a single batch. For this model we will pass 100 training data in every batch for training.\n",
        "\n",
        "By tuning this parameters we can optimize the model's performance\n",
        "\n",
        "\n",
        "\n"
      ]
    },
    {
      "cell_type": "code",
      "metadata": {
        "id": "IH2Lyu4j50pn",
        "colab_type": "code",
        "colab": {
          "base_uri": "https://localhost:8080/",
          "height": 1000
        },
        "outputId": "d455769e-0e30-4761-803e-443c12cf8674"
      },
      "source": [
        "history = model.fit(X, y, epochs=20, batch_size=100, callbacks=desired_callbacks)"
      ],
      "execution_count": 88,
      "outputs": [
        {
          "output_type": "stream",
          "text": [
            "Epoch 1/20\n",
            "5409/5409 [==============================] - 125s 23ms/step - loss: 0.0432\n",
            "\n",
            "Epoch 00001: loss did not improve from 0.03637\n",
            "Epoch 2/20\n",
            "5409/5409 [==============================] - 125s 23ms/step - loss: 0.0316\n",
            "\n",
            "Epoch 00002: loss improved from 0.03637 to 0.03161, saving model to model_weights_saved.hdf5\n",
            "Epoch 3/20\n",
            "5409/5409 [==============================] - 127s 24ms/step - loss: 0.0310\n",
            "\n",
            "Epoch 00003: loss improved from 0.03161 to 0.03103, saving model to model_weights_saved.hdf5\n",
            "Epoch 4/20\n",
            "5409/5409 [==============================] - 128s 24ms/step - loss: 0.0301\n",
            "\n",
            "Epoch 00004: loss improved from 0.03103 to 0.03007, saving model to model_weights_saved.hdf5\n",
            "Epoch 5/20\n",
            "5409/5409 [==============================] - 132s 24ms/step - loss: 0.0266\n",
            "\n",
            "Epoch 00005: loss improved from 0.03007 to 0.02656, saving model to model_weights_saved.hdf5\n",
            "Epoch 6/20\n",
            "5409/5409 [==============================] - 128s 24ms/step - loss: 0.0237\n",
            "\n",
            "Epoch 00006: loss improved from 0.02656 to 0.02375, saving model to model_weights_saved.hdf5\n",
            "Epoch 7/20\n",
            "5409/5409 [==============================] - 127s 24ms/step - loss: 0.0222\n",
            "\n",
            "Epoch 00007: loss improved from 0.02375 to 0.02222, saving model to model_weights_saved.hdf5\n",
            "Epoch 8/20\n",
            "5409/5409 [==============================] - 126s 23ms/step - loss: 0.0237\n",
            "\n",
            "Epoch 00008: loss did not improve from 0.02222\n",
            "Epoch 9/20\n",
            "5409/5409 [==============================] - 126s 23ms/step - loss: 0.2072\n",
            "\n",
            "Epoch 00009: loss did not improve from 0.02222\n",
            "Epoch 10/20\n",
            "5409/5409 [==============================] - 130s 24ms/step - loss: 0.0714\n",
            "\n",
            "Epoch 00010: loss did not improve from 0.02222\n",
            "Epoch 11/20\n",
            "5409/5409 [==============================] - 125s 23ms/step - loss: 0.0365\n",
            "\n",
            "Epoch 00011: loss did not improve from 0.02222\n",
            "Epoch 12/20\n",
            "5409/5409 [==============================] - 126s 23ms/step - loss: 0.0271\n",
            "\n",
            "Epoch 00012: loss did not improve from 0.02222\n",
            "Epoch 13/20\n",
            "5409/5409 [==============================] - 126s 23ms/step - loss: 0.0241\n",
            "\n",
            "Epoch 00013: loss did not improve from 0.02222\n",
            "Epoch 14/20\n",
            "5409/5409 [==============================] - 126s 23ms/step - loss: 0.0214\n",
            "\n",
            "Epoch 00014: loss improved from 0.02222 to 0.02137, saving model to model_weights_saved.hdf5\n",
            "Epoch 15/20\n",
            "5409/5409 [==============================] - 131s 24ms/step - loss: 0.0195\n",
            "\n",
            "Epoch 00015: loss improved from 0.02137 to 0.01950, saving model to model_weights_saved.hdf5\n",
            "Epoch 16/20\n",
            "5409/5409 [==============================] - 125s 23ms/step - loss: 0.0190\n",
            "\n",
            "Epoch 00016: loss improved from 0.01950 to 0.01901, saving model to model_weights_saved.hdf5\n",
            "Epoch 17/20\n",
            "5409/5409 [==============================] - 125s 23ms/step - loss: 0.0180\n",
            "\n",
            "Epoch 00017: loss improved from 0.01901 to 0.01800, saving model to model_weights_saved.hdf5\n",
            "Epoch 18/20\n",
            "5409/5409 [==============================] - 125s 23ms/step - loss: 0.0198\n",
            "\n",
            "Epoch 00018: loss did not improve from 0.01800\n",
            "Epoch 19/20\n",
            "5409/5409 [==============================] - 125s 23ms/step - loss: 0.0154\n",
            "\n",
            "Epoch 00019: loss improved from 0.01800 to 0.01543, saving model to model_weights_saved.hdf5\n",
            "Epoch 20/20\n",
            "5409/5409 [==============================] - 129s 24ms/step - loss: 0.0143\n",
            "\n",
            "Epoch 00020: loss improved from 0.01543 to 0.01429, saving model to model_weights_saved.hdf5\n"
          ],
          "name": "stdout"
        }
      ]
    },
    {
      "cell_type": "markdown",
      "metadata": {
        "id": "2TjjWFo9Zu4q",
        "colab_type": "text"
      },
      "source": [
        "> Plotting the Loss value to understanding the tend"
      ]
    },
    {
      "cell_type": "code",
      "metadata": {
        "id": "vYs_4Ck9FCaF",
        "colab_type": "code",
        "colab": {
          "base_uri": "https://localhost:8080/",
          "height": 321
        },
        "outputId": "7e1a117d-811c-41bc-f5e3-f21f85514ac1"
      },
      "source": [
        "# summarize history for loss\n",
        "plt.plot(history.history['loss'])\n",
        "plt.title('model loss')\n",
        "plt.ylabel('loss')\n",
        "plt.xlabel('epoch')\n",
        "plt.legend(['train', 'test'], loc='upper left')\n",
        "plt.show()"
      ],
      "execution_count": 90,
      "outputs": [
        {
          "output_type": "display_data",
          "data": {
            "image/png": "[encoded data removed]",
            "text/plain": [
              "<Figure size 432x288 with 1 Axes>"
            ]
          },
          "metadata": {
            "tags": []
          }
        }
      ]
    },
    {
      "cell_type": "markdown",
      "metadata": {
        "id": "xp4yl_2Y7dEL",
        "colab_type": "text"
      },
      "source": [
        ">Loading the trained model"
      ]
    },
    {
      "cell_type": "code",
      "metadata": {
        "id": "d1q8Hw-c7fnZ",
        "colab_type": "code",
        "colab": {}
      },
      "source": [
        "filename = \"model_weights_saved.hdf5\"\n",
        "model.load_weights(filename)\n",
        "model.compile(loss='categorical_crossentropy', optimizer='adam')"
      ],
      "execution_count": 0,
      "outputs": []
    },
    {
      "cell_type": "markdown",
      "metadata": {
        "id": "lBsLgQJh7pM-",
        "colab_type": "text"
      },
      "source": [
        "Since we converted the characters to numbers earlier, we need to define a dictionary variable that will convert the output of the model back into numbers"
      ]
    },
    {
      "cell_type": "code",
      "metadata": {
        "id": "RoRC2r9j7jF0",
        "colab_type": "code",
        "colab": {}
      },
      "source": [
        "num_to_char = dict((i, c) for i, c in enumerate(chars))"
      ],
      "execution_count": 0,
      "outputs": []
    },
    {
      "cell_type": "markdown",
      "metadata": {
        "id": "wEiyRoLS5h1U",
        "colab_type": "text"
      },
      "source": [
        "> For epoch = 20 and batch_size = 256"
      ]
    },
    {
      "cell_type": "code",
      "metadata": {
        "id": "ZN6BRAaz7sXH",
        "colab_type": "code",
        "colab": {
          "base_uri": "https://localhost:8080/",
          "height": 51
        },
        "outputId": "0b30a06a-57b9-4dcb-aa23-a69fa61b780e"
      },
      "source": [
        "start = numpy.random.randint(0, len(x_data) - 1)\n",
        "pattern = x_data[start]\n",
        "print(\"Random Seed:\")\n",
        "print(\"\\\"\", ''.join([num_to_char[value] for value in pattern]), \"\\\"\")"
      ],
      "execution_count": 49,
      "outputs": [
        {
          "output_type": "stream",
          "text": [
            "Random Seed:\n",
            "\"  offers helping hand Bangladesh ree 23 Coronavirus Bangladesh mass prayer event prom 24 Music Bangla \"\n"
          ],
          "name": "stdout"
        }
      ]
    },
    {
      "cell_type": "markdown",
      "metadata": {
        "id": "j4e-ln_kAX8s",
        "colab_type": "text"
      },
      "source": [
        "I know this sentence doesn't make any sence. This is because our traning data amount is very low. So we need to increase the epochs number from 4 to 20 to and reduces beatch_size 256 to 100 that reduces the loss on during the training. Loss is a term which indicates how bad the model predicted. the less the number the good the model predicted well."
      ]
    },
    {
      "cell_type": "code",
      "metadata": {
        "id": "ngC0Z5PW70DH",
        "colab_type": "code",
        "colab": {
          "base_uri": "https://localhost:8080/",
          "height": 51
        },
        "outputId": "a8f9f173-02eb-4066-996d-e6d5e3d400d1"
      },
      "source": [
        "start = numpy.random.randint(0, len(x_data) - 1)\n",
        "pattern = x_data[start]\n",
        "print(\"Random Headline:\")\n",
        "print(\"\\\"\", ''.join([num_to_char[value] for value in pattern]), \"\\\"\")"
      ],
      "execution_count": 98,
      "outputs": [
        {
          "output_type": "stream",
          "text": [
            "Random Headline:\n",
            "\"  6 NYC Bangladeshi community struggles cope 7 Bangladesh Beximco begin producing Covid 8 Coronavirus \"\n"
          ],
          "name": "stdout"
        }
      ]
    },
    {
      "cell_type": "markdown",
      "metadata": {
        "id": "cYKofPpk3non",
        "colab_type": "text"
      },
      "source": [
        "Though this is not a proper meaningfull sentence but it is more accurate compare to previous sentence. That's mean this model is predicting well. Here we uses only 100 headlines but if we increase the dataset the model will perform better. "
      ]
    },
    {
      "cell_type": "code",
      "metadata": {
        "id": "fQQgoTqhQQSr",
        "colab_type": "code",
        "colab": {}
      },
      "source": [
        ""
      ],
      "execution_count": 0,
      "outputs": []
    }
  ]
}