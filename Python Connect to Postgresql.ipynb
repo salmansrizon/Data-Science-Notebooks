{
 "cells": [
  {
   "cell_type": "markdown",
   "metadata": {},
   "source": [
    "*PostgreSql database Connection and CRUD Operation with psycopg2*\n"
   ]
  },
  {
   "cell_type": "code",
   "execution_count": null,
   "metadata": {},
   "outputs": [],
   "source": []
  },
  {
   "cell_type": "markdown",
   "metadata": {},
   "source": [
    "Connecting to database"
   ]
  },
  {
   "cell_type": "code",
   "execution_count": 14,
   "metadata": {},
   "outputs": [
    {
     "name": "stdout",
     "output_type": "stream",
     "text": [
      "Selecting rows from customer table using cursor.fetchall\n",
      "print each row and it's calumns values\n",
      "ID =  1\n",
      "First_name =  bee\n",
      "Last_name =  cee\n",
      "Email =  32\n",
      "Age =  bc@xyz.com \n",
      "\n",
      "ID =  2\n",
      "First_name =  bee2\n",
      "Last_name =  cee2\n",
      "Email =  322\n",
      "Age =  bc@xyz2.com \n",
      "\n"
     ]
    }
   ],
   "source": [
    "import psycopg2\n",
    "#importing psycopg2 \n",
    "\n",
    "try:\n",
    "    #defining connection variable\n",
    "    conn = psycopg2.connect(user = \"postgres\",\n",
    "                           password = \"salmansakib1\",\n",
    "                           host = \"127.0.0.1\",\n",
    "                           port = \"5432\",\n",
    "                           database = \"training\")\n",
    "    #database connection credentials\n",
    "    \n",
    "    #initiating cursor \n",
    "    cursor = conn.cursor()\n",
    "    \n",
    "    #fatch all data form a table in the database\n",
    "    \n",
    "    postgreSQL_select_Query = \"select * from customer_table\"\n",
    "    cursor.execute(postgreSQL_select_Query)\n",
    "    #executing query \n",
    "    print(\"Selecting rows from customer table using cursor.fetchall\")\n",
    "    customer_table = cursor.fetchall()\n",
    "    #fatching all the rows in the tables\n",
    "    #customer_table = cursor.fetchmany(1)\n",
    "    #For fetching a selected number of row\n",
    "    print(\"print each row and it's calumns values\")\n",
    "    for row in customer_table:\n",
    "        print(\"ID = \", row[0], )\n",
    "        print(\"First_name = \", row[1])\n",
    "        print(\"Last_name = \", row[2])\n",
    "        print(\"Email = \", row[3])\n",
    "        print(\"Age = \", row[4], \"\\n\")\n",
    "#Error handeling and messege for database connection\n",
    "except (Exception, psycopg2.Error) as error :\n",
    "    print (\"Error while connecting to PostgreSQL\", error)\n",
    "    \n",
    "finally:\n",
    "    #closing database connection after ending execution\n",
    "    if(conn):\n",
    "        cursor.close()\n",
    "        #closing Cursor\n",
    "        conn.close()\n",
    "        #connection closing\n",
    "        print(\"PostgreSQL connection is closed\")"
   ]
  },
  {
   "cell_type": "code",
   "execution_count": null,
   "metadata": {},
   "outputs": [],
   "source": []
  }
 ],
 "metadata": {
  "kernelspec": {
   "display_name": "Python 3",
   "language": "python",
   "name": "python3"
  },
  "language_info": {
   "codemirror_mode": {
    "name": "ipython",
    "version": 3
   },
   "file_extension": ".py",
   "mimetype": "text/x-python",
   "name": "python",
   "nbconvert_exporter": "python",
   "pygments_lexer": "ipython3",
   "version": "3.7.3"
  }
 },
 "nbformat": 4,
 "nbformat_minor": 2
}
